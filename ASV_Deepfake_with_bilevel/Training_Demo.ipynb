{
 "cells": [
  {
   "cell_type": "code",
   "execution_count": 1,
   "id": "8d0e2679",
   "metadata": {},
   "outputs": [],
   "source": [
    "import warnings\n",
    "warnings.filterwarnings('ignore')\n",
    "\n",
    "from torch.utils.data import DataLoader, Dataset\n",
    "import numpy as np\n",
    "import glob\n",
    "import collections\n",
    "from joblib import Parallel, delayed\n",
    "import collections\n",
    "from sklearn.metrics import roc_curve\n",
    "from sklearn.metrics import roc_auc_score\n",
    "\n",
    "import librosa, librosa.display\n",
    "import scipy\n",
    "from scipy.io import wavfile\n",
    "import soundfile as sf\n",
    "\n",
    "import torch\n",
    "from torch import Tensor\n",
    "from torchvision import transforms\n",
    "from torchaudio import transforms as audioTran\n",
    "from torch.utils.data import Subset\n",
    "from torch import nn\n",
    "import torch.nn.functional as F\n",
    "from torch.optim.lr_scheduler import LambdaLR\n",
    "from tensorboardX import SummaryWriter\n",
    "\n",
    "from tqdm import tqdm\n",
    "import seaborn as sns\n",
    "import matplotlib.pyplot as plt\n",
    "\n",
    "import sys \n",
    "import os\n",
    "#sys.path.append(os.path.abspath(f\"D:/deepfake audio\"))\n",
    "import math\n",
    "import yaml\n",
    "import copy\n",
    "from scipy import signal\n",
    "import wave\n",
    "import cv2\n",
    "from sklearn.model_selection import KFold"
   ]
  },
  {
   "cell_type": "code",
   "execution_count": 2,
   "id": "af42adc4",
   "metadata": {},
   "outputs": [],
   "source": [
    "######### helper functions ############\n",
    "\n",
    "## For data\n",
    "def pad(x, max_len = 64600):\n",
    "    \n",
    "    x_len = x.shape[0]\n",
    "    if x_len >= max_len:\n",
    "        return x[:max_len]\n",
    "    # need to pad\n",
    "    num_repeats = int(max_len / x_len)+1\n",
    "    padded_x = np.tile(x, (1, num_repeats))[:, :max_len][0]\n",
    "    \n",
    "    return padded_x\n",
    "\n",
    "def idx_preprocessing(train_set): \n",
    "    idx0 = torch.tensor(train_set.data_sysid) == 0    # get index for each generation method\n",
    "    idx1 = torch.tensor(train_set.data_sysid) == 1\n",
    "    idx2 = torch.tensor(train_set.data_sysid) == 2\n",
    "    idx3 = torch.tensor(train_set.data_sysid) == 3\n",
    "    idx4 = torch.tensor(train_set.data_sysid) == 4\n",
    "    idx5 = torch.tensor(train_set.data_sysid) == 5\n",
    "    idx6 = torch.tensor(train_set.data_sysid) == 6\n",
    "\n",
    "    train_mask_0 = idx0.nonzero().reshape(-1)\n",
    "    real_idx = torch.split(train_mask_0, int(len(train_mask_0)/6)) # equally divide real data set  \n",
    "\n",
    "    train_idx_1 = torch.cat((real_idx[0],idx1.nonzero().reshape(-1)))\n",
    "    train_idx_2 = torch.cat((real_idx[1],idx2.nonzero().reshape(-1)))\n",
    "    train_idx_3 = torch.cat((real_idx[2],idx3.nonzero().reshape(-1)))\n",
    "    train_idx_4 = torch.cat((real_idx[3],idx4.nonzero().reshape(-1)))\n",
    "    train_idx_5 = torch.cat((real_idx[4],idx5.nonzero().reshape(-1)))\n",
    "    train_idx_6 = torch.cat((real_idx[5],idx6.nonzero().reshape(-1)))\n",
    "    \n",
    "    train_idx = torch.stack((train_idx_1,train_idx_2,train_idx_3,train_idx_4,train_idx_5,train_idx_6))\n",
    "    \n",
    "    return train_idx\n",
    "\n",
    "## For PatchEmbed\n",
    "def to_2tuple(x):\n",
    "    if isinstance(x, collections.abc.Iterable):\n",
    "        return x\n",
    "    return (x, x)\n",
    "\n",
    "## For Transformer\n",
    "def clones(module, N):\n",
    "    \"Produce N identical layers.\"\n",
    "    return nn.ModuleList([copy.deepcopy(module) for _ in range(N)])\n",
    "\n",
    "\n",
    "## For Optimizer\n",
    "def rate(step, model_size, factor, warmup):\n",
    "\n",
    "    if step == 0:\n",
    "        step = 1\n",
    "    return factor * (\n",
    "        model_size ** (-0.5) * min(step ** (-0.5), step * warmup ** (-1.5))\n",
    "    )\n",
    "\n",
    "def rate_cnn(current_step,  num_training_steps, num_cycles):\n",
    "    num_warmup_steps = int(0.04 * num_training_steps)\n",
    "    if current_step < num_warmup_steps:\n",
    "        return float(current_step) / float(max(1, num_warmup_steps))\n",
    "    progress = float(current_step - num_warmup_steps) / float(max(1, num_training_steps - num_warmup_steps))\n",
    "    return 0.5 * (1.0 + math.cos(math.pi * float(num_cycles) * 2.0 * progress))\n",
    "\n",
    "######### helper class ############\n",
    "\n",
    "class LayerNorm(nn.Module):\n",
    "    def __init__(self, features, eps=1e-6):\n",
    "        super(LayerNorm,self).__init__()\n",
    "        self.gamma = nn.Parameter(torch.ones(features))\n",
    "        self.beta = nn.Parameter(torch.zeros(features))\n",
    "        self.eps = eps\n",
    "\n",
    "    def forward(self, x):\n",
    "        mean = x.mean(-1, keepdim=True)\n",
    "        std = x.std(-1, keepdim=True)\n",
    "        return self.gamma * (x - mean) / (std + self.eps) + self.beta"
   ]
  },
  {
   "cell_type": "code",
   "execution_count": 3,
   "id": "b0b7cb3f",
   "metadata": {},
   "outputs": [],
   "source": [
    "###############  Model ####################"
   ]
  },
  {
   "cell_type": "code",
   "execution_count": 4,
   "id": "46dced6e",
   "metadata": {},
   "outputs": [],
   "source": [
    "class SincConv(nn.Module):   \n",
    "\n",
    "    @staticmethod\n",
    "    def to_mel(hz):\n",
    "        return 2595 * np.log10(1 + hz / 700)\n",
    "\n",
    "    @staticmethod\n",
    "    def to_hz(mel):\n",
    "        return 700 * (10 ** (mel / 2595) - 1)\n",
    "\n",
    "    def __init__(self, out_channels, kernel_size=128, sample_rate=16000, in_channels=1,\n",
    "                 stride=1, padding=0, dilation=1, bias=False, groups=1, min_low_hz=50, min_band_hz=50):\n",
    "\n",
    "        super(SincConv,self).__init__()\n",
    "\n",
    "        if in_channels != 1:\n",
    "            msg = \"SincConv only support one input channel (here, in_channels = {%i})\" % (in_channels)\n",
    "            raise ValueError(msg)\n",
    "\n",
    "        self.out_channels = out_channels\n",
    "        self.kernel_size = kernel_size\n",
    "        \n",
    "        if kernel_size%2==0:\n",
    "            self.kernel_size=self.kernel_size+1\n",
    "            \n",
    "        self.stride = stride\n",
    "        self.padding = padding\n",
    "        self.dilation = dilation\n",
    "\n",
    "        if bias:\n",
    "            raise ValueError('SincConv does not support bias.')\n",
    "        if groups > 1:\n",
    "            raise ValueError('SincConv does not support groups.')\n",
    "\n",
    "        self.sample_rate = sample_rate\n",
    "        self.min_low_hz = min_low_hz\n",
    "        self.min_band_hz = min_band_hz\n",
    "\n",
    "        low_hz = 30\n",
    "        high_hz = self.sample_rate / 2 - (self.min_low_hz + self.min_band_hz)\n",
    "\n",
    "        mel = np.linspace(self.to_mel(low_hz),\n",
    "                          self.to_mel(high_hz),\n",
    "                          self.out_channels + 1)\n",
    "        hz = self.to_hz(mel)\n",
    "        \n",
    "\n",
    "        self.low_hz_ = nn.Parameter(torch.Tensor(hz[:-1]).view(-1, 1))\n",
    "\n",
    "        self.band_hz_ = nn.Parameter(torch.Tensor(np.diff(hz)).view(-1, 1))\n",
    "\n",
    "\n",
    "        n_lin=torch.linspace(0, (self.kernel_size/2)-1, steps=int((self.kernel_size/2))) \n",
    "        self.window_=0.54-0.46*torch.cos(2*math.pi*n_lin/self.kernel_size);\n",
    "\n",
    "        n = (self.kernel_size - 1) / 2.0\n",
    "        self.band_pass = 2*math.pi*torch.arange(-n, 0).view(1, -1) / self.sample_rate \n",
    "\n",
    " \n",
    "\n",
    "\n",
    "    def forward(self, x):\n",
    "        self.band_pass = self.band_pass.to(x.device)\n",
    "\n",
    "        self.window_ = self.window_.to(x.device)\n",
    "\n",
    "        low = self.min_low_hz  + torch.abs(self.low_hz_)\n",
    "        \n",
    "        high = torch.clamp(low + self.min_band_hz + torch.abs(self.band_hz_),self.min_low_hz,self.sample_rate/2)\n",
    "        band=(high-low)[:,0]\n",
    "        \n",
    "        f_times_t_low = torch.matmul(low, self.band_pass)\n",
    "        f_times_t_high = torch.matmul(high, self.band_pass)\n",
    "\n",
    "        band_pass_left=((torch.sin(f_times_t_high)-torch.sin(f_times_t_low))/(self.band_pass/2))*self.window_ # Equivalent of Eq.4 of the reference paper (SPEAKER RECOGNITION FROM RAW WAVEFORM WITH SINCNET). I just have expanded the sinc and simplified the terms. This way I avoid several useless computations. \n",
    "        band_pass_center = 2*band.view(-1,1)\n",
    "        band_pass_right= torch.flip(band_pass_left,dims=[1])\n",
    "        \n",
    "        \n",
    "        band_pass=torch.cat([band_pass_left,band_pass_center,band_pass_right],dim=1)\n",
    "\n",
    "        \n",
    "        band_pass = band_pass / (2*band[:,None])\n",
    "        \n",
    "\n",
    "        self.filters = (band_pass).view(self.out_channels, 1, self.kernel_size)\n",
    "\n",
    "        return F.conv1d(x, self.filters, stride=self.stride,\n",
    "                        padding=self.padding, dilation=self.dilation,\n",
    "                         bias=None, groups=1) "
   ]
  },
  {
   "cell_type": "code",
   "execution_count": 5,
   "id": "de678873",
   "metadata": {},
   "outputs": [],
   "source": [
    "class PatchEmbed(nn.Module):\n",
    "    \"\"\" 2D Image to Patch Embedding\n",
    "    \"\"\"\n",
    "    def __init__(self, feature_size, patch_size, embed_dim, in_chans=1):\n",
    "        super().__init__()\n",
    "        patch_size = to_2tuple(patch_size)\n",
    "        self.grid_size = (feature_size[0] // patch_size[0], feature_size[1] // patch_size[1])\n",
    "        self.num_patches = self.grid_size[0] * self.grid_size[1]\n",
    "\n",
    "        self.proj = nn.Conv2d(in_chans, embed_dim, kernel_size=patch_size, stride=patch_size)\n",
    "\n",
    "    def forward(self, x):\n",
    "        B, H, W = x.shape\n",
    "        x = x.view(B, 1, H, W)\n",
    "        x = self.proj(x)\n",
    "        x = x.flatten(2)\n",
    "        return x"
   ]
  },
  {
   "cell_type": "code",
   "execution_count": 6,
   "id": "66b88a9c",
   "metadata": {},
   "outputs": [],
   "source": [
    "class EmbedReduce(nn.Module):\n",
    "    def __init__(self, current_len, seq_size):\n",
    "        \n",
    "        super(EmbedReduce,self).__init__()\n",
    "        self.linear1=nn.Linear(current_len, seq_size[0])\n",
    "        self.lin_ln1 = nn.LayerNorm(seq_size[0])\n",
    "        self.linear2=nn.Linear(seq_size[0], seq_size[1])\n",
    "        self.lin_ln2 = nn.LayerNorm(seq_size[1])\n",
    "        self.linear3=nn.Linear(seq_size[1], seq_size[2])\n",
    "        self.lin_ln3 = nn.LayerNorm(seq_size[2])\n",
    "        \n",
    "    def forward(self, x):\n",
    "        x = self.linear1(x)\n",
    "        x = self.lin_ln1(x)\n",
    "\n",
    "        x = self.linear2(x)\n",
    "        x = self.lin_ln2(x)\n",
    "\n",
    "        x = self.linear3(x)\n",
    "        x = self.lin_ln3(x)\n",
    "\n",
    "        return x.transpose(1, 2) "
   ]
  },
  {
   "cell_type": "code",
   "execution_count": 7,
   "id": "c442bedc",
   "metadata": {},
   "outputs": [],
   "source": [
    "class FeatureEncoder(nn.Module):\n",
    "    def __init__(self, encoder_channel, kernel, stride, padding):\n",
    "        super(FeatureEncoder, self).__init__()\n",
    "        \n",
    "        self.device = device\n",
    "        \n",
    "        self.mel_transform = audioTran.MelSpectrogram(16000)\n",
    "       \n",
    "        self.conv1 = nn.Conv2d(1, encoder_channel[0], kernel, stride=stride, padding=padding)\n",
    "        nn.init.kaiming_uniform_(self.conv1.weight, a=0.1)\n",
    "        self.conv1.bias.data.zero_()\n",
    "        self.encode1 = nn.Sequential(self.conv1, nn.BatchNorm2d(encoder_channel[0]), nn.LeakyReLU(0.2))\n",
    "        \n",
    "        \n",
    "        self.conv2 = nn.Conv2d(encoder_channel[0], encoder_channel[1], kernel,stride=stride, padding=padding)\n",
    "        nn.init.kaiming_uniform_(self.conv2.weight, a=0.1)\n",
    "        self.conv2.bias.data.zero_()\n",
    "        self.encode2 = nn.Sequential(self.conv2,nn.BatchNorm2d(encoder_channel[1]), nn.LeakyReLU(0.2))\n",
    "        \n",
    "        \n",
    "        self.conv3 = nn.Conv2d(encoder_channel[1], encoder_channel[2], kernel,stride=stride, padding=padding)\n",
    "        nn.init.kaiming_uniform_(self.conv3.weight, a=0.1)\n",
    "        self.conv3.bias.data.zero_()\n",
    "        self.encode3 = nn.Sequential(self.conv3, nn.BatchNorm2d(encoder_channel[2]), nn.LeakyReLU(0.2))\n",
    "        \n",
    "        self.conv4 = nn.Conv2d(encoder_channel[2], encoder_channel[3], kernel, stride=stride, padding=padding)\n",
    "        nn.init.kaiming_uniform_(self.conv4.weight, a=0.1)\n",
    "        self.conv4.bias.data.zero_()\n",
    "        self.encode4 = nn.Sequential(self.conv4, nn.BatchNorm2d(encoder_channel[3]), nn.LeakyReLU(0.2))\n",
    "        \n",
    "\n",
    "        \n",
    "\n",
    "    def forward(self, x):\n",
    "        x = self.mel_transform(x)\n",
    "        \n",
    "        batch = x.shape[0]\n",
    "        freq = x.shape[1]\n",
    "        frame = x.shape[2]\n",
    "        x = x.view(batch,1,freq,frame)\n",
    "        \n",
    "        x = self.encode1(x)\n",
    "        x = self.encode2(x)\n",
    "        x = self.encode3(x)\n",
    "        x = self.encode4(x)\n",
    "        \n",
    "        x = x.flatten(2)\n",
    "        return x.transpose(1, 2) "
   ]
  },
  {
   "cell_type": "code",
   "execution_count": 8,
   "id": "59ef6d3b",
   "metadata": {},
   "outputs": [],
   "source": [
    "## Transformer"
   ]
  },
  {
   "cell_type": "code",
   "execution_count": 9,
   "id": "8008a199",
   "metadata": {},
   "outputs": [],
   "source": [
    "class PositionalEncoding(nn.Module):\n",
    "    \"Implement the PE function.\"\n",
    "\n",
    "    def __init__(self, d_model, dropout, max_len=5000):\n",
    "        super(PositionalEncoding, self).__init__()\n",
    "        self.dropout = nn.Dropout(p=dropout)\n",
    "\n",
    "        pe = torch.zeros(max_len, d_model)\n",
    "        position = torch.arange(0, max_len).unsqueeze(1)\n",
    "        div_term = torch.exp(\n",
    "            torch.arange(0, d_model, 2) * -(math.log(10000.0) / d_model)\n",
    "        )\n",
    "        pe[:, 0::2] = torch.sin(position * div_term)\n",
    "        pe[:, 1::2] = torch.cos(position * div_term)\n",
    "        pe = pe.unsqueeze(0)\n",
    "        self.register_buffer(\"pe\", pe) \n",
    "        \n",
    "\n",
    "    def forward(self, x):\n",
    "        x = x + self.pe[:, : x.size(1)].requires_grad_(False) \n",
    "        return self.dropout(x)    "
   ]
  },
  {
   "cell_type": "code",
   "execution_count": 10,
   "id": "799b2bbe",
   "metadata": {},
   "outputs": [],
   "source": [
    "class PositionwiseFeedForward(nn.Module):\n",
    "\n",
    "    def __init__(self, d_model, d_hidden, dropout=0.1):\n",
    "        super(PositionwiseFeedForward, self).__init__()\n",
    "        self.w_1 = nn.Linear(d_model, d_hidden)\n",
    "        self.w_2 = nn.Linear(d_hidden, d_model)\n",
    "        self.dropout = nn.Dropout(dropout)\n",
    "\n",
    "    def forward(self, x):\n",
    "        return self.w_2(self.dropout(self.w_1(x).relu()))\n",
    "    \n",
    "    \n",
    "class SublayerConnection(nn.Module):\n",
    "    def __init__(self, size, dropout):\n",
    "        super(SublayerConnection, self).__init__()\n",
    "        self.norm = LayerNorm(size)\n",
    "        self.dropout = nn.Dropout(dropout)\n",
    "\n",
    "    def forward(self, x, sublayer):\n",
    "\n",
    "        return x + self.dropout(sublayer(self.norm(x)))\n",
    "    \n",
    "    \n",
    "def attention(query, key, value, mask=None, dropout=None):\n",
    "    d_k = query.size(-1)\n",
    "    scores = torch.matmul(query, key.transpose(-2, -1)) / math.sqrt(d_k)\n",
    "    if mask is not None:\n",
    "        scores = scores.masked_fill(mask == 0, -1e9)\n",
    "    p_attn = scores.softmax(dim=-1)\n",
    "    if dropout is not None:\n",
    "        p_attn = dropout(p_attn)\n",
    "    return torch.matmul(p_attn, value), p_attn\n",
    "\n",
    "class MultiHeadedAttention(nn.Module):\n",
    "    def __init__(self, h, d_model, dropout=0.1):\n",
    "        super(MultiHeadedAttention, self).__init__()\n",
    "        assert d_model % h == 0\n",
    "        # We assume d_v always equals d_k\n",
    "        self.d_k = d_model // h\n",
    "        self.h = h\n",
    "        self.linears = clones(nn.Linear(d_model, d_model), 4)\n",
    "        self.attn = None\n",
    "        self.dropout = nn.Dropout(p=dropout)\n",
    "\n",
    "    def forward(self, query, key, value, mask=None):\n",
    "        if mask is not None:\n",
    "            mask = mask.unsqueeze(1)\n",
    "        nbatches = query.size(0)\n",
    "\n",
    "        query, key, value = [\n",
    "            lin(x).view(nbatches, -1, self.h, self.d_k).transpose(1, 2)\n",
    "            for lin, x in zip(self.linears, (query, key, value))\n",
    "        ]\n",
    "        x, self.attn = attention(\n",
    "            query, key, value, mask=mask, dropout=self.dropout\n",
    "        )\n",
    "        x = (\n",
    "            x.transpose(1, 2)\n",
    "            .contiguous()\n",
    "            .view(nbatches, -1, self.h * self.d_k)\n",
    "        )\n",
    "        del query\n",
    "        del key\n",
    "        del value\n",
    "        return self.linears[-1](x)\n",
    "    \n",
    "    \n",
    "    \n",
    "class EncoderLayer(nn.Module):\n",
    "    def __init__(self, d_model, d_hidden, h, dropout):\n",
    "        super(EncoderLayer, self).__init__()\n",
    "        self.self_attn = MultiHeadedAttention(h, d_model)\n",
    "        self.feed_forward = PositionwiseFeedForward(d_model, d_hidden,)\n",
    "        self.sublayer = clones(SublayerConnection(d_model, dropout), 2)\n",
    "\n",
    "    def forward(self, x, mask):\n",
    "        x = self.sublayer[0](x, lambda x: self.self_attn(x, x, x, mask))\n",
    "        return self.sublayer[1](x, self.feed_forward)\n",
    "    \n",
    "    \n",
    "class Encoder(nn.Module):\n",
    "    def __init__(self, d_model, d_hidden, N, h, dropout):\n",
    "        super(Encoder, self).__init__()\n",
    "        self.layers = clones(EncoderLayer(d_model, d_hidden, h, dropout), N)\n",
    "        #self.norm = LayerNorm(layer.size)\n",
    "\n",
    "    def forward(self, x, mask):\n",
    "        for layer in self.layers:\n",
    "            x = layer(x, mask)\n",
    "        #return self.norm(x)   \n",
    "        return x\n",
    "    \n",
    "class Transformer(nn.Module):\n",
    "    def __init__(self, d_model, d_hidden, N, h,dropout=0.1):\n",
    "        super(Transformer, self).__init__()\n",
    "        self.d_model = d_model\n",
    "        self.d_hidden = d_hidden\n",
    "        \n",
    "        self.encoder = Encoder(self.d_model, self.d_hidden, N, h, dropout)\n",
    "        \n",
    "        print('initialization: xavier')\n",
    "        for p in self.parameters():\n",
    "            if p.dim() > 1:\n",
    "                nn.init.xavier_uniform_(p)\n",
    "        \n",
    "    def forward(self, x):\n",
    "        src_mask = torch.cat((torch.zeros(x.shape[0],1,1),torch.ones(x.shape[0],1,x.shape[1]-1)),dim=2).cuda()\n",
    "        x = self.encoder(x,src_mask)\n",
    "        return x"
   ]
  },
  {
   "cell_type": "code",
   "execution_count": 11,
   "id": "3478efd4",
   "metadata": {},
   "outputs": [],
   "source": [
    "class Net(nn.Module):\n",
    "    def __init__(self, model_args, device):\n",
    "        super(Box_v2, self).__init__()\n",
    "        \n",
    "        self.device = device\n",
    "\n",
    "        self.Sinc_conv = SincConv(out_channels = model_args['num_filter'],\n",
    "                                  kernel_size = model_args['filt_len'],\n",
    "                                  in_channels = model_args['in_channels'])\n",
    "        self.feature_dim = int((model_args['samp_len']-model_args['filt_len'])/model_args['max_pool_len']) \n",
    " \n",
    "        self.lnorm1 = LayerNorm([model_args['num_filter'],self.feature_dim])\n",
    "        self.leaky_relu = nn.LeakyReLU(0.2)\n",
    "        \n",
    "        self.d_embed = model_args['patch_embed']\n",
    "        self.patchEmbed = PatchEmbed(feature_size = (model_args['num_filter'], self.feature_dim),\n",
    "                                     patch_size = model_args['patch_size'],\n",
    "                                     embed_dim = self.d_embed)\n",
    "        self.seq_len = (model_args['num_filter']//model_args['patch_size'])*(self.feature_dim//model_args['patch_size'])\n",
    "        self.EmbedReduce = EmbedReduce(current_len = self.seq_len, seq_size = model_args['seq_size'])\n",
    "        \n",
    "        self.featureEncoder = FeatureEncoder(model_args['encoder_channel'], model_args['kernel'], \n",
    "                                             model_args['stride'], model_args['padding'])\n",
    "               \n",
    "        self.posEncode = PositionalEncoding(d_model = self.d_embed, dropout = model_args['drop_out'])\n",
    "        \n",
    "        self.transformer = Transformer(d_model = self.d_embed, \n",
    "                                       d_hidden = model_args['encoder_hidden'], \n",
    "                                       N = model_args['num_block'],\n",
    "                                       h = model_args['num_head'],\n",
    "                                       dropout = model_args['drop_out'])\n",
    "        \n",
    "        self.gru = nn.GRU(input_size = self.d_embed, hidden_size = model_args['gru_hidden'],\n",
    "                          num_layers = model_args['gru_layer'], batch_first = True)\n",
    "        \n",
    "        self.mlp = nn.Sequential(nn.LayerNorm(model_args['mlp_size'][0]),\n",
    "                                 nn.Linear(in_features = model_args['mlp_size'][0], out_features = model_args['mlp_size'][1]),\n",
    "                                 nn.Linear(in_features = model_args['mlp_size'][1], out_features = model_args['nb_classes']))\n",
    "        \n",
    "       \n",
    "    def forward(self, x, y = None,is_test=False):\n",
    "        batch = x.shape[0]\n",
    "        len_seq = x.shape[1]\n",
    "        x_1 = x.view(batch,1,len_seq)\n",
    "\n",
    "        x_1 = self.Sinc_conv(x_1) \n",
    "        x_1 = F.max_pool1d(torch.abs(x_1), 3)\n",
    "        x_1 = self.lnorm1(x_1)\n",
    "        x_1 = self.leaky_relu(x_1)\n",
    "        \n",
    "        x_1 = self.patchEmbed(x_1)\n",
    "        x_1 = self.EmbedReduce(x_1)\n",
    "        \n",
    "        x_2 = self.featureEncoder(x)\n",
    "        \n",
    "        x = torch.cat((x_1, x_2), 1)\n",
    "        x = self.posEncode(x)\n",
    "        \n",
    "        x = self.transformer(x)\n",
    "        \n",
    "        self.gru.flatten_parameters()\n",
    "        x,h_n = self.gru(x)\n",
    "        \n",
    "        x = x.transpose(1, 2) \n",
    "        \n",
    "        x = self.mlp(x.mean(dim=1))\n",
    "        output=F.softmax(x,dim=1)\n",
    "\n",
    "        return output"
   ]
  },
  {
   "cell_type": "code",
   "execution_count": 12,
   "id": "3afed818",
   "metadata": {},
   "outputs": [],
   "source": [
    "######### Loading Dataset #########"
   ]
  },
  {
   "cell_type": "code",
   "execution_count": 14,
   "id": "b6697178",
   "metadata": {},
   "outputs": [],
   "source": [
    "###### For ASV DATSET  ########\n",
    "ASVFile = collections.namedtuple('ASVFile',\n",
    "    ['speaker_id', 'file_name', 'path', 'sys_id', 'key'])\n",
    "\n",
    "\n",
    "class ASVDataset(Dataset):\n",
    "    def __init__(self, data_path=None, label_path=None,transform=None,\n",
    "                 is_train=True,is_eval=False,feature=None,track=None):\n",
    "        self.data_path_root = data_path\n",
    "        self.label_path = label_path\n",
    "        self.track = track\n",
    "        self.feature = feature\n",
    "        self.is_eval = is_eval\n",
    "        self.transform = transform\n",
    "        \n",
    "        if self.is_eval:\n",
    "            self.sysid_dict = {\n",
    "            '-': 0,  # bonafide speech\n",
    "            'A07': 1,\n",
    "            'A08': 2, \n",
    "            'A09': 3, \n",
    "            'A10': 4, \n",
    "            'A11': 5, \n",
    "            'A12': 6,\n",
    "            'A13': 7, \n",
    "            'A14': 8, \n",
    "            'A15': 9, \n",
    "            'A16': 10, \n",
    "            'A17': 11, \n",
    "            'A18': 12,\n",
    "            'A19': 13,    \n",
    "        }\n",
    "        else:\n",
    "            self.sysid_dict = {\n",
    "            '-': 0,  # bonafide speech         \n",
    "            'A01': 1, \n",
    "            'A02': 2, \n",
    "            'A03': 3, \n",
    "            'A04': 4, \n",
    "            'A05': 5, \n",
    "            'A06': 6,        \n",
    "        }\n",
    "        \n",
    "        self.sysid_dict_inv = {v:k for k,v in self.sysid_dict.items()}\n",
    "        print('sysid_dict_inv',self.sysid_dict_inv)\n",
    "        \n",
    "        self.dset_name = 'eval' if is_eval else 'train' if is_train else 'dev'\n",
    "        print('dset_name',self.dset_name)\n",
    "        \n",
    "        self.label_fname = 'eval.trl' if is_eval else 'train.trn' if is_train else 'dev.trl'\n",
    "        print('label_fname',self.label_fname)\n",
    "        \n",
    "        self.label_dir = os.path.join(self.label_path)\n",
    "        print('protocols_dir',self.label_dir)\n",
    "        \n",
    "        track = 'LA' \n",
    "        self.prefix = 'ASVspoof2019_{}'.format(track)\n",
    "        self.audio_files_dir = os.path.join(self.data_path_root, '{}_{}'.format(\n",
    "            self.prefix, self.dset_name), 'flac')\n",
    "        print('audio_files_dir',self.audio_files_dir)\n",
    "        \n",
    "        self.label_fname = os.path.join(self.label_dir,\n",
    "            'ASVspoof2019.{}.cm.{}.txt'.format(track, self.label_fname))\n",
    "        print('label_file',self.label_fname)\n",
    "        \n",
    "        \n",
    "        if (self.dset_name == 'eval'):\n",
    "            cache_fname = 'cache_ASV_{}.npy'.format(self.dset_name)\n",
    "            self.cache_fname = os.path.join(\"/home/menglu/123/Dataset/ASV2019/LA Train/DataCache\", cache_fname)\n",
    "        else:\n",
    "            cache_fname = 'cache_ASV_{}.npy'.format(self.dset_name)\n",
    "            self.cache_fname = os.path.join(\"/home/menglu/123/Dataset/ASV2019/LA Train/DataCache\", cache_fname)\n",
    "            \n",
    "        if os.path.exists(self.cache_fname):\n",
    "            self.data_x, self.data_y, self.data_sysid, self.files_meta = torch.load(self.cache_fname)\n",
    "            print('Dataset loaded from cache', self.cache_fname)\n",
    "        else: \n",
    "            self.files_meta = self.parse_protocols_file(self.label_fname)\n",
    "            data = list(map(self.read_file, self.files_meta))\n",
    "            self.data_x, self.data_y, self.data_sysid = map(list, zip(*data))\n",
    "            if self.transform:\n",
    "                self.data_x = Parallel(n_jobs=5, prefer='threads')(delayed(self.transform)(x) for x in self.data_x)                          \n",
    "            torch.save((self.data_x, self.data_y, self.data_sysid, self.files_meta), self.cache_fname)\n",
    "        \n",
    "    def __len__(self):\n",
    "        self.length = len(self.data_x)\n",
    "        return self.length\n",
    "   \n",
    "    def __getitem__(self, idx):\n",
    "        x = self.data_x[idx]\n",
    "        y = self.data_y[idx]\n",
    "        return x, y, self.files_meta[idx]\n",
    "            \n",
    "    def read_file(self, meta):   \n",
    "        #data_x, sample_rate = librosa.load(meta.path,sr=16000)  \n",
    "        data_x, sample_rate = sf.read(meta.path)\n",
    "        data_y = meta.key\n",
    "        return data_x, float(data_y) ,meta.sys_id   \n",
    "\n",
    "    def parse_line(self, line):\n",
    "        tokens = line.strip().split(' ')\n",
    "        if self.is_eval:\n",
    "            return ASVFile(speaker_id=tokens[0],\n",
    "                file_name=tokens[1],\n",
    "                path=os.path.join(self.audio_files_dir, tokens[1] + '.flac'),\n",
    "                sys_id=self.sysid_dict[tokens[3]],\n",
    "                key=int(tokens[4] == 'bonafide'))\n",
    "        return ASVFile(speaker_id=tokens[0],\n",
    "            file_name=tokens[1],\n",
    "            path=os.path.join(self.audio_files_dir, tokens[1] + '.flac'),\n",
    "            sys_id=self.sysid_dict[tokens[3]],\n",
    "            key=int(tokens[4] == 'bonafide'))\n",
    "\n",
    "    def parse_protocols_file(self, label_fname):\n",
    "        lines = open(label_fname).readlines()\n",
    "        files_meta = map(self.parse_line, lines)\n",
    "        return list(files_meta)"
   ]
  },
  {
   "cell_type": "code",
   "execution_count": 16,
   "id": "d0ebbd73",
   "metadata": {},
   "outputs": [
    {
     "name": "stdout",
     "output_type": "stream",
     "text": [
      "sysid_dict_inv {0: '-', 1: 'A01', 2: 'A02', 3: 'A03', 4: 'A04', 5: 'A05', 6: 'A06'}\n",
      "dset_name train\n",
      "label_fname train.trn\n",
      "protocols_dir /home/menglu/123/Dataset/ASV2019/LA Train/ASVspoof2019_LA_cm_protocols\n",
      "audio_files_dir /home/menglu/123/Dataset/ASV2019/LA Train/ASVspoof2019_LA_train/flac\n",
      "label_file /home/menglu/123/Dataset/ASV2019/LA Train/ASVspoof2019_LA_cm_protocols/ASVspoof2019.LA.cm.train.trn.txt\n",
      "Dataset loaded from cache /home/menglu/123/Dataset/ASV2019/LA Train/DataCache/cache_ASV_train.npy\n",
      "sysid_dict_inv {0: '-', 1: 'A01', 2: 'A02', 3: 'A03', 4: 'A04', 5: 'A05', 6: 'A06'}\n",
      "dset_name dev\n",
      "label_fname dev.trl\n",
      "protocols_dir /home/menglu/123/Dataset/ASV2019/LA Train/ASVspoof2019_LA_cm_protocols\n",
      "audio_files_dir /home/menglu/123/Dataset/ASV2019/LA Train/ASVspoof2019_LA_dev/flac\n",
      "label_file /home/menglu/123/Dataset/ASV2019/LA Train/ASVspoof2019_LA_cm_protocols/ASVspoof2019.LA.cm.dev.trl.txt\n",
      "Dataset loaded from cache /home/menglu/123/Dataset/ASV2019/LA Train/DataCache/cache_ASV_dev.npy\n"
     ]
    }
   ],
   "source": [
    "# Dataloader TRAINING\n",
    "database_path = \"/home/menglu/123/Dataset/ASV2019/LA Train\"\n",
    "label_path = \"/home/menglu/123/Dataset/ASV2019/LA Train/ASVspoof2019_LA_cm_protocols\"\n",
    "transform = transforms.Compose([\n",
    "    lambda x: pad(x),\n",
    "    lambda x: Tensor(x)\n",
    "])\n",
    "\n",
    "train_set = ASVDataset(data_path=database_path,label_path=label_path,is_train=True,transform=transform)\n",
    "train_idx = idx_preprocessing(train_set)\n",
    "\n",
    "# Dataloader  VALIDATION\n",
    "dev_set = ASVDataset(data_path = database_path,label_path = label_path,is_train=False, transform=transform)\n",
    "dev_loader = DataLoader(dev_set, batch_size=32, shuffle=True)"
   ]
  },
  {
   "cell_type": "code",
   "execution_count": null,
   "id": "054c344a",
   "metadata": {},
   "outputs": [],
   "source": []
  },
  {
   "cell_type": "code",
   "execution_count": null,
   "id": "997dced2",
   "metadata": {},
   "outputs": [],
   "source": [
    "######### Start training #########"
   ]
  },
  {
   "cell_type": "code",
   "execution_count": 17,
   "id": "e222f20a",
   "metadata": {},
   "outputs": [],
   "source": [
    "class FocalLoss(nn.Module):\n",
    "    def __init__(self, alpha=.25, gamma=2):\n",
    "        super(FocalLoss, self).__init__()\n",
    "        self.gamma = gamma\n",
    "        self.alpha = alpha\n",
    "        if isinstance(alpha, (float, int)): self.alpha = torch.Tensor([alpha, 1 - alpha]).cuda()\n",
    "        if isinstance(alpha, list): self.alpha = torch.Tensor(alpha).cuda()\n",
    "\n",
    "    def forward(self, inputs, targets):\n",
    "        BCE_loss = F.cross_entropy(inputs, targets, reduce=False)\n",
    "        at = self.alpha.gather(0, targets.data.view(-1))\n",
    "        pt = torch.exp(-BCE_loss)\n",
    "        F_loss = at*(1-pt)**self.gamma * BCE_loss\n",
    "        return torch.mean(F_loss)\n",
    "\n",
    "    \n",
    "def evaluate_accuracy(data_loader, model, device):\n",
    "    num_correct = 0.0\n",
    "    num_total = 0.0\n",
    "    model.eval()\n",
    "    for batch_x, batch_y, batch_meta in tqdm(data_loader):\n",
    "    #for batch_x, batch_y in data_loader:\n",
    "        batch_size = batch_x.size(0)\n",
    "        num_total += batch_size\n",
    "        batch_x = batch_x.to(device)\n",
    "        batch_y = batch_y.view(-1).type(torch.int64).to(device)\n",
    "        batch_out = model(batch_x,batch_y)\n",
    "        _, batch_pred = batch_out.max(dim=1)\n",
    "        num_correct += (batch_pred == batch_y).sum(dim=0).item()\n",
    "    return 100 * (num_correct / num_total)\n",
    "\n",
    "\n",
    "\n",
    "def train_epoch_with_swap(train_A_loader, train_B_loader, idx, model_A, model_B, lr, \n",
    "                          optim_A, optim_B, device, buffer_vec, scheduler_A = None, scheduler_B = None):\n",
    "    \n",
    "    running_loss = 0\n",
    "    num_correct = 0.0\n",
    "    model_A.train()\n",
    "    \n",
    "    weight = torch.FloatTensor([1.0, 9.0]).to(device)\n",
    "    CEloss = nn.CrossEntropyLoss(weight=weight)\n",
    "    \n",
    "    for train_A_set, train_B_set in tqdm(zip(train_A_loader,train_B_loader), total = len(train_A_loader)):\n",
    "        \n",
    "        A_x = train_A_set[0]\n",
    "        A_y = train_A_set[1]\n",
    "        batch_size = A_x.size(0)\n",
    "        idx += 1\n",
    "        \n",
    "        A_x = A_x.to(device)\n",
    "        A_y = A_y.view(-1).type(torch.int64).to(device)\n",
    "        A_out = model_A(A_x,A_y)\n",
    "        \n",
    "        CE_Loss_from_A = CEloss(A_out, A_y)\n",
    "        Focal_Loss_from_A = FocalLoss()(A_out, A_y)\n",
    "\n",
    "        batch_loss_from_A = CE_Loss_from_A + Focal_Loss_from_A\n",
    "        _, batch_pred_from_A = A_out.max(dim=1)\n",
    "\n",
    "        batch_acc = ((batch_pred_from_A == A_y).sum(dim=0).item() / batch_size)*100\n",
    "        batch_loss = batch_loss_from_A.item() \n",
    "  \n",
    "        \n",
    "        optim_A.zero_grad()\n",
    "        batch_loss_from_A.backward()\n",
    "        optim_A.step()\n",
    "        if scheduler_A !=None:\n",
    "            scheduler_A.step()\n",
    "        \n",
    "        writer.add_scalar('train_accuracy', batch_acc, idx)\n",
    "        writer.add_scalar('loss', batch_loss, idx)\n",
    "                \n",
    "          \n",
    "        model_A_dict = model_A.state_dict()\n",
    "        model_B_dict = model_B.state_dict()\n",
    "        buffer_dict = {k: v for k, v in model_A_dict.items() if k not in buffer_vec}\n",
    "        model_B_dict.update(buffer_dict)\n",
    "        model_B.load_state_dict(model_B_dict)\n",
    "        model_B.train()\n",
    "        \n",
    "        B_x = train_B_set[0]\n",
    "        B_y = train_B_set[1]   \n",
    "        B_x = B_x.to(device)\n",
    "        B_y = B_y.view(-1).type(torch.int64).to(device)\n",
    "        B_out = model_B(B_x,B_y)\n",
    "        \n",
    "        CE_Loss_from_B = CEloss(B_out, B_y)\n",
    "        Focal_Loss_from_B = FocalLoss()(B_out, B_y)\n",
    "\n",
    "        batch_loss_from_B = CE_Loss_from_B + Focal_Loss_from_B\n",
    "        _, batch_pred_from_B = B_out.max(dim=1)\n",
    "        \n",
    "        optim_B.zero_grad()\n",
    "        batch_loss_from_B.backward()\n",
    "        optim_B.step()\n",
    "        if scheduler_B !=None:\n",
    "            scheduler_B.step() \n",
    "    return idx"
   ]
  },
  {
   "cell_type": "code",
   "execution_count": 19,
   "id": "4e46d87d",
   "metadata": {
    "scrolled": true
   },
   "outputs": [
    {
     "name": "stdout",
     "output_type": "stream",
     "text": [
      "200\n",
      "initialization: xavier\n",
      "initialization: xavier\n",
      "29658194\n",
      "v5_32_512_128_6_8_0.001\n"
     ]
    },
    {
     "name": "stderr",
     "output_type": "stream",
     "text": [
      " 50%|████████████████████▌                    | 264/528 [01:45<01:45,  2.50it/s]\n",
      "100%|█████████████████████████████████████████| 777/777 [01:00<00:00, 12.90it/s]\n"
     ]
    },
    {
     "name": "stdout",
     "output_type": "stream",
     "text": [
      "\n",
      "0 - 78.9285 - 1.1667261889578034e-08 - 0.00012\n"
     ]
    },
    {
     "name": "stderr",
     "output_type": "stream",
     "text": [
      " 50%|████████████████████▌                    | 264/528 [01:45<01:45,  2.50it/s]\n",
      "100%|█████████████████████████████████████████| 777/777 [00:58<00:00, 13.36it/s]\n"
     ]
    },
    {
     "name": "stdout",
     "output_type": "stream",
     "text": [
      "\n",
      "1 - 69.6385 - 2.3334523779156068e-08 - 0.00024\n"
     ]
    },
    {
     "name": "stderr",
     "output_type": "stream",
     "text": [
      " 50%|████████████████████▌                    | 264/528 [01:45<01:45,  2.50it/s]\n",
      "100%|█████████████████████████████████████████| 777/777 [00:57<00:00, 13.48it/s]\n"
     ]
    },
    {
     "name": "stdout",
     "output_type": "stream",
     "text": [
      "\n",
      "2 - 56.8145 - 3.5001785668734106e-08 - 0.00035999999999999997\n"
     ]
    },
    {
     "name": "stderr",
     "output_type": "stream",
     "text": [
      " 50%|████████████████████▌                    | 264/528 [01:46<01:46,  2.48it/s]\n",
      "100%|█████████████████████████████████████████| 777/777 [00:59<00:00, 13.17it/s]\n"
     ]
    },
    {
     "name": "stdout",
     "output_type": "stream",
     "text": [
      "\n",
      "3 - 75.7768 - 4.6669047558312136e-08 - 0.00048\n"
     ]
    },
    {
     "name": "stderr",
     "output_type": "stream",
     "text": [
      " 50%|████████████████████▌                    | 264/528 [01:46<01:46,  2.49it/s]\n",
      "100%|█████████████████████████████████████████| 777/777 [00:58<00:00, 13.24it/s]\n"
     ]
    },
    {
     "name": "stdout",
     "output_type": "stream",
     "text": [
      "\n",
      "4 - 60.2238 - 5.8336309447890174e-08 - 0.0006\n"
     ]
    },
    {
     "name": "stderr",
     "output_type": "stream",
     "text": [
      " 50%|████████████████████▌                    | 264/528 [01:46<01:46,  2.47it/s]\n",
      "100%|█████████████████████████████████████████| 777/777 [00:56<00:00, 13.73it/s]\n"
     ]
    },
    {
     "name": "stdout",
     "output_type": "stream",
     "text": [
      "\n",
      "5 - 51.0707 - 7.000357133746821e-08 - 0.0007199999999999999\n"
     ]
    },
    {
     "name": "stderr",
     "output_type": "stream",
     "text": [
      " 50%|████████████████████▌                    | 264/528 [01:46<01:46,  2.49it/s]\n",
      "100%|█████████████████████████████████████████| 777/777 [00:59<00:00, 13.00it/s]\n"
     ]
    },
    {
     "name": "stdout",
     "output_type": "stream",
     "text": [
      "\n",
      "6 - 75.1650 - 8.167083322704624e-08 - 0.00084\n"
     ]
    },
    {
     "name": "stderr",
     "output_type": "stream",
     "text": [
      " 50%|████████████████████▌                    | 264/528 [01:52<01:52,  2.35it/s]\n",
      "100%|█████████████████████████████████████████| 777/777 [00:56<00:00, 13.74it/s]\n"
     ]
    },
    {
     "name": "stdout",
     "output_type": "stream",
     "text": [
      "\n",
      "7 - 75.9862 - 9.333809511662427e-08 - 0.00096\n"
     ]
    },
    {
     "name": "stderr",
     "output_type": "stream",
     "text": [
      " 50%|████████████████████▌                    | 264/528 [01:45<01:45,  2.51it/s]\n",
      "100%|█████████████████████████████████████████| 777/777 [00:56<00:00, 13.70it/s]\n"
     ]
    },
    {
     "name": "stdout",
     "output_type": "stream",
     "text": [
      "\n",
      "8 - 50.4226 - 1.0500535700620231e-07 - 0.000999972584682756\n"
     ]
    },
    {
     "name": "stderr",
     "output_type": "stream",
     "text": [
      " 50%|████████████████████▌                    | 264/528 [01:45<01:45,  2.51it/s]\n",
      "100%|█████████████████████████████████████████| 777/777 [00:56<00:00, 13.72it/s]\n"
     ]
    },
    {
     "name": "stdout",
     "output_type": "stream",
     "text": [
      "\n",
      "9 - 77.8981 - 1.1667261889578035e-07 - 0.0009998286624877785\n"
     ]
    },
    {
     "name": "stderr",
     "output_type": "stream",
     "text": [
      " 50%|████████████████████▌                    | 264/528 [01:45<01:45,  2.51it/s]\n",
      "100%|█████████████████████████████████████████| 777/777 [00:56<00:00, 13.73it/s]\n"
     ]
    },
    {
     "name": "stdout",
     "output_type": "stream",
     "text": [
      "\n",
      "10 - 68.6645 - 1.2833988078535837e-07 - 0.0009995614150494292\n"
     ]
    },
    {
     "name": "stderr",
     "output_type": "stream",
     "text": [
      " 50%|████████████████████▌                    | 264/528 [01:45<01:45,  2.51it/s]\n",
      "100%|█████████████████████████████████████████| 777/777 [00:56<00:00, 13.79it/s]\n"
     ]
    },
    {
     "name": "stdout",
     "output_type": "stream",
     "text": [
      "\n",
      "11 - 46.3814 - 1.4000714267493642e-07 - 0.0009991709083070142\n"
     ]
    },
    {
     "name": "stderr",
     "output_type": "stream",
     "text": [
      " 50%|████████████████████▌                    | 264/528 [01:45<01:45,  2.51it/s]\n",
      "100%|█████████████████████████████████████████| 777/777 [01:00<00:00, 12.83it/s]\n"
     ]
    },
    {
     "name": "stdout",
     "output_type": "stream",
     "text": [
      "\n",
      "12 - 81.6374 - 1.5167440456451442e-07 - 0.000998657238612229\n"
     ]
    },
    {
     "name": "stderr",
     "output_type": "stream",
     "text": [
      " 50%|████████████████████▌                    | 264/528 [01:46<01:46,  2.49it/s]\n",
      "100%|█████████████████████████████████████████| 777/777 [00:56<00:00, 13.71it/s]\n"
     ]
    },
    {
     "name": "stdout",
     "output_type": "stream",
     "text": [
      "\n",
      "13 - 66.9538 - 1.6334166645409247e-07 - 0.0009980205327053849\n"
     ]
    },
    {
     "name": "stderr",
     "output_type": "stream",
     "text": [
      " 50%|████████████████████▌                    | 264/528 [01:45<01:45,  2.51it/s]\n",
      "100%|█████████████████████████████████████████| 777/777 [00:56<00:00, 13.68it/s]\n"
     ]
    },
    {
     "name": "stdout",
     "output_type": "stream",
     "text": [
      "\n",
      "14 - 46.7799 - 1.7500892834367055e-07 - 0.0009972609476841367\n"
     ]
    },
    {
     "name": "stderr",
     "output_type": "stream",
     "text": [
      " 50%|████████████████████▌                    | 264/528 [01:45<01:45,  2.51it/s]\n",
      "100%|█████████████████████████████████████████| 777/777 [00:56<00:00, 13.65it/s]\n"
     ]
    },
    {
     "name": "stdout",
     "output_type": "stream",
     "text": [
      "\n",
      "15 - 85.6183 - 1.8667619023324855e-07 - 0.0009963786709647228\n"
     ]
    },
    {
     "name": "stderr",
     "output_type": "stream",
     "text": [
      " 50%|████████████████████▌                    | 264/528 [01:46<01:46,  2.49it/s]\n",
      "100%|█████████████████████████████████████████| 777/777 [00:56<00:00, 13.68it/s]\n"
     ]
    },
    {
     "name": "stdout",
     "output_type": "stream",
     "text": [
      "\n",
      "16 - 73.3014 - 1.983434521228266e-07 - 0.0009953739202357217\n"
     ]
    },
    {
     "name": "stderr",
     "output_type": "stream",
     "text": [
      " 50%|████████████████████▌                    | 264/528 [01:45<01:45,  2.51it/s]\n",
      "100%|█████████████████████████████████████████| 777/777 [00:57<00:00, 13.62it/s]\n"
     ]
    },
    {
     "name": "stdout",
     "output_type": "stream",
     "text": [
      "\n",
      "17 - 46.4418 - 2.1001071401240462e-07 - 0.0009942469434043417\n"
     ]
    },
    {
     "name": "stderr",
     "output_type": "stream",
     "text": [
      " 50%|████████████████████▌                    | 264/528 [01:45<01:45,  2.51it/s]\n",
      "100%|█████████████████████████████████████████| 777/777 [00:56<00:00, 13.72it/s]\n"
     ]
    },
    {
     "name": "stdout",
     "output_type": "stream",
     "text": [
      "\n",
      "18 - 74.1024 - 2.2167797590198264e-07 - 0.0009929980185352525\n"
     ]
    },
    {
     "name": "stderr",
     "output_type": "stream",
     "text": [
      " 50%|████████████████████▌                    | 264/528 [01:45<01:45,  2.51it/s]\n",
      "100%|█████████████████████████████████████████| 777/777 [00:56<00:00, 13.74it/s]\n"
     ]
    },
    {
     "name": "stdout",
     "output_type": "stream",
     "text": [
      "\n",
      "19 - 73.8126 - 2.333452377915607e-07 - 0.0009916274537819774\n"
     ]
    },
    {
     "name": "stderr",
     "output_type": "stream",
     "text": [
      " 50%|████████████████████▌                    | 264/528 [01:46<01:46,  2.48it/s]\n",
      "100%|█████████████████████████████████████████| 777/777 [00:56<00:00, 13.65it/s]\n"
     ]
    },
    {
     "name": "stdout",
     "output_type": "stream",
     "text": [
      "\n",
      "20 - 47.3032 - 2.4501249968113875e-07 - 0.000990135587310861\n"
     ]
    },
    {
     "name": "stderr",
     "output_type": "stream",
     "text": [
      " 50%|████████████████████▌                    | 264/528 [01:46<01:46,  2.48it/s]\n",
      "100%|█████████████████████████████████████████| 777/777 [00:57<00:00, 13.52it/s]\n"
     ]
    },
    {
     "name": "stdout",
     "output_type": "stream",
     "text": [
      "\n",
      "21 - 79.8543 - 2.5667976157071674e-07 - 0.000988522787217632\n"
     ]
    },
    {
     "name": "stderr",
     "output_type": "stream",
     "text": [
      " 50%|████████████████████▌                    | 264/528 [01:45<01:45,  2.50it/s]\n",
      "100%|█████████████████████████████████████████| 777/777 [00:56<00:00, 13.73it/s]\n"
     ]
    },
    {
     "name": "stdout",
     "output_type": "stream",
     "text": [
      "\n",
      "22 - 60.6867 - 2.683470234602948e-07 - 0.0009867894514365802\n"
     ]
    },
    {
     "name": "stderr",
     "output_type": "stream",
     "text": [
      " 50%|████████████████████▌                    | 264/528 [01:45<01:45,  2.51it/s]\n",
      "100%|█████████████████████████████████████████| 777/777 [00:56<00:00, 13.70it/s]\n"
     ]
    },
    {
     "name": "stdout",
     "output_type": "stream",
     "text": [
      "\n",
      "23 - 48.1162 - 2.8001428534987285e-07 - 0.0009849360076423736\n"
     ]
    },
    {
     "name": "stderr",
     "output_type": "stream",
     "text": [
      " 50%|████████████████████▌                    | 264/528 [01:45<01:45,  2.51it/s]\n",
      "100%|█████████████████████████████████████████| 777/777 [00:56<00:00, 13.78it/s]\n"
     ]
    },
    {
     "name": "stdout",
     "output_type": "stream",
     "text": [
      "\n",
      "24 - 83.6862 - 2.916815472394509e-07 - 0.0009829629131445341\n"
     ]
    },
    {
     "name": "stderr",
     "output_type": "stream",
     "text": [
      " 50%|████████████████████▌                    | 264/528 [01:45<01:45,  2.51it/s]\n",
      "100%|█████████████████████████████████████████| 777/777 [00:56<00:00, 13.74it/s]\n"
     ]
    },
    {
     "name": "stdout",
     "output_type": "stream",
     "text": [
      "\n",
      "25 - 56.6455 - 3.0334880912902884e-07 - 0.0009808706547746056\n"
     ]
    },
    {
     "name": "stderr",
     "output_type": "stream",
     "text": [
      " 50%|████████████████████▌                    | 264/528 [01:45<01:45,  2.50it/s]\n",
      "100%|█████████████████████████████████████████| 777/777 [00:56<00:00, 13.72it/s]\n"
     ]
    },
    {
     "name": "stdout",
     "output_type": "stream",
     "text": [
      "\n",
      "26 - 49.9879 - 3.1501607101860694e-07 - 0.0009786597487660335\n"
     ]
    },
    {
     "name": "stderr",
     "output_type": "stream",
     "text": [
      " 50%|████████████████████▌                    | 264/528 [01:45<01:45,  2.51it/s]\n",
      "100%|█████████████████████████████████████████| 777/777 [00:57<00:00, 13.63it/s]\n"
     ]
    },
    {
     "name": "stdout",
     "output_type": "stream",
     "text": [
      "\n",
      "27 - 83.2434 - 3.2668333290818494e-07 - 0.0009763307406267932\n"
     ]
    },
    {
     "name": "stderr",
     "output_type": "stream",
     "text": [
      " 50%|████████████████████▌                    | 264/528 [01:46<01:46,  2.49it/s]\n",
      "100%|█████████████████████████████████████████| 777/777 [00:59<00:00, 12.96it/s]\n"
     ]
    },
    {
     "name": "stdout",
     "output_type": "stream",
     "text": [
      "\n",
      "28 - 79.3914 - 3.38350594797763e-07 - 0.0009738842050047929\n"
     ]
    },
    {
     "name": "stderr",
     "output_type": "stream",
     "text": [
      " 50%|████████████████████▌                    | 264/528 [01:45<01:45,  2.50it/s]\n",
      "100%|█████████████████████████████████████████| 777/777 [00:58<00:00, 13.24it/s]\n"
     ]
    },
    {
     "name": "stdout",
     "output_type": "stream",
     "text": [
      "\n",
      "29 - 52.0568 - 3.500178566873411e-07 - 0.0009713207455460893\n"
     ]
    },
    {
     "name": "stderr",
     "output_type": "stream",
     "text": [
      " 50%|████████████████████▌                    | 264/528 [01:45<01:45,  2.50it/s]\n",
      "100%|█████████████████████████████████████████| 777/777 [00:59<00:00, 13.11it/s]\n"
     ]
    },
    {
     "name": "stdout",
     "output_type": "stream",
     "text": [
      "\n",
      "30 - 88.5445 - 3.616851185769191e-07 - 0.0009686409947459458\n"
     ]
    },
    {
     "name": "stderr",
     "output_type": "stream",
     "text": [
      " 50%|████████████████████▌                    | 264/528 [01:47<01:47,  2.45it/s]\n",
      "100%|█████████████████████████████████████████| 777/777 [00:59<00:00, 12.96it/s]\n"
     ]
    },
    {
     "name": "stdout",
     "output_type": "stream",
     "text": [
      "\n",
      "31 - 80.8968 - 3.733523804664971e-07 - 0.0009658456137927744\n"
     ]
    },
    {
     "name": "stderr",
     "output_type": "stream",
     "text": [
      " 50%|████████████████████▌                    | 264/528 [01:47<01:47,  2.46it/s]\n",
      "100%|█████████████████████████████████████████| 777/777 [01:02<00:00, 12.46it/s]\n"
     ]
    },
    {
     "name": "stdout",
     "output_type": "stream",
     "text": [
      "\n",
      "32 - 51.7308 - 3.8501964235607514e-07 - 0.0009629352924049974\n"
     ]
    },
    {
     "name": "stderr",
     "output_type": "stream",
     "text": [
      " 50%|████████████████████▌                    | 264/528 [01:45<01:45,  2.49it/s]\n",
      "100%|█████████████████████████████████████████| 777/777 [00:58<00:00, 13.17it/s]\n"
     ]
    },
    {
     "name": "stdout",
     "output_type": "stream",
     "text": [
      "\n",
      "33 - 89.3375 - 3.966869042456532e-07 - 0.0009599107486608689\n"
     ]
    },
    {
     "name": "stderr",
     "output_type": "stream",
     "text": [
      " 50%|████████████████████▌                    | 264/528 [01:47<01:47,  2.45it/s]\n",
      "100%|█████████████████████████████████████████| 777/777 [01:01<00:00, 12.55it/s]\n"
     ]
    },
    {
     "name": "stdout",
     "output_type": "stream",
     "text": [
      "\n",
      "34 - 84.4872 - 4.0835416613523124e-07 - 0.0009567727288213005\n"
     ]
    },
    {
     "name": "stderr",
     "output_type": "stream",
     "text": [
      " 50%|████████████████████▌                    | 264/528 [01:46<01:46,  2.47it/s]\n",
      "100%|█████████████████████████████████████████| 777/777 [00:59<00:00, 12.99it/s]\n"
     ]
    },
    {
     "name": "stdout",
     "output_type": "stream",
     "text": [
      "\n",
      "35 - 51.6785 - 4.2002142802480924e-07 - 0.0009535220071457324\n"
     ]
    },
    {
     "name": "stderr",
     "output_type": "stream",
     "text": [
      " 50%|████████████████████▌                    | 264/528 [01:47<01:47,  2.46it/s]\n",
      "100%|█████████████████████████████████████████| 777/777 [01:01<00:00, 12.69it/s]\n"
     ]
    },
    {
     "name": "stdout",
     "output_type": "stream",
     "text": [
      "\n",
      "36 - 92.7749 - 4.3168868991438724e-07 - 0.0009501593857010968\n"
     ]
    },
    {
     "name": "stderr",
     "output_type": "stream",
     "text": [
      " 50%|████████████████████▌                    | 264/528 [01:45<01:45,  2.49it/s]\n",
      "100%|█████████████████████████████████████████| 777/777 [00:58<00:00, 13.20it/s]\n"
     ]
    },
    {
     "name": "stdout",
     "output_type": "stream",
     "text": [
      "\n",
      "37 - 89.1040 - 4.4123632400383214e-07 - 0.0009466856941639188\n"
     ]
    },
    {
     "name": "stderr",
     "output_type": "stream",
     "text": [
      " 50%|████████████████████▌                    | 264/528 [01:45<01:45,  2.50it/s]\n",
      "100%|█████████████████████████████████████████| 777/777 [00:58<00:00, 13.19it/s]\n"
     ]
    },
    {
     "name": "stdout",
     "output_type": "stream",
     "text": [
      "\n",
      "38 - 50.3421 - 4.355427135453598e-07 - 0.0009431017896156073\n"
     ]
    },
    {
     "name": "stderr",
     "output_type": "stream",
     "text": [
      " 50%|████████████████████▌                    | 264/528 [01:45<01:45,  2.50it/s]\n",
      "100%|█████████████████████████████████████████| 777/777 [00:58<00:00, 13.17it/s]\n"
     ]
    },
    {
     "name": "stdout",
     "output_type": "stream",
     "text": [
      "\n",
      "39 - 86.4877 - 4.3006397075248467e-07 - 0.0009394085563309827\n"
     ]
    },
    {
     "name": "stderr",
     "output_type": "stream",
     "text": [
      " 50%|████████████████████▌                    | 264/528 [01:46<01:46,  2.49it/s]\n",
      "100%|█████████████████████████████████████████| 777/777 [00:57<00:00, 13.57it/s]\n"
     ]
    },
    {
     "name": "stdout",
     "output_type": "stream",
     "text": [
      "\n",
      "40 - 82.1245 - 4.2478691236487257e-07 - 0.0009356069055600948\n"
     ]
    },
    {
     "name": "stderr",
     "output_type": "stream",
     "text": [
      " 50%|████████████████████▌                    | 264/528 [01:45<01:45,  2.49it/s]\n",
      "100%|█████████████████████████████████████████| 777/777 [00:58<00:00, 13.18it/s]\n"
     ]
    },
    {
     "name": "stdout",
     "output_type": "stream",
     "text": [
      "\n",
      "41 - 56.5529 - 4.196994604298856e-07 - 0.0009316977753033858\n"
     ]
    },
    {
     "name": "stderr",
     "output_type": "stream",
     "text": [
      " 50%|████████████████████▌                    | 264/528 [01:46<01:46,  2.49it/s]\n",
      "100%|█████████████████████████████████████████| 777/777 [00:56<00:00, 13.83it/s]\n"
     ]
    },
    {
     "name": "stdout",
     "output_type": "stream",
     "text": [
      "\n",
      "42 - 92.9601 - 4.147905259389836e-07 - 0.0009276821300802534\n"
     ]
    },
    {
     "name": "stderr",
     "output_type": "stream",
     "text": [
      " 50%|████████████████████▌                    | 264/528 [01:45<01:45,  2.51it/s]\n",
      "100%|█████████████████████████████████████████| 777/777 [00:56<00:00, 13.77it/s]\n"
     ]
    },
    {
     "name": "stdout",
     "output_type": "stream",
     "text": [
      "\n",
      "43 - 90.5490 - 4.100499070949047e-07 - 0.0009235609606910686\n"
     ]
    },
    {
     "name": "stderr",
     "output_type": "stream",
     "text": [
      " 50%|████████████████████▌                    | 264/528 [01:45<01:45,  2.51it/s]\n",
      "100%|█████████████████████████████████████████| 777/777 [00:56<00:00, 13.72it/s]\n"
     ]
    },
    {
     "name": "stdout",
     "output_type": "stream",
     "text": [
      "\n",
      "44 - 63.0736 - 4.054682000841266e-07 - 0.0009193352839727121\n"
     ]
    },
    {
     "name": "stderr",
     "output_type": "stream",
     "text": [
      " 50%|████████████████████▌                    | 264/528 [01:45<01:45,  2.51it/s]\n",
      "100%|█████████████████████████████████████████| 777/777 [00:57<00:00, 13.43it/s]\n"
     ]
    },
    {
     "name": "stdout",
     "output_type": "stream",
     "text": [
      "\n",
      "45 - 89.5588 - 4.010367205776136e-07 - 0.0009150061425476837\n"
     ]
    },
    {
     "name": "stderr",
     "output_type": "stream",
     "text": [
      " 50%|████████████████████▌                    | 264/528 [01:45<01:45,  2.50it/s]\n",
      "100%|█████████████████████████████████████████| 777/777 [00:56<00:00, 13.75it/s]\n"
     ]
    },
    {
     "name": "stdout",
     "output_type": "stream",
     "text": [
      "\n",
      "46 - 89.0597 - 3.9674743446798873e-07 - 0.000910574604566852\n"
     ]
    },
    {
     "name": "stderr",
     "output_type": "stream",
     "text": [
      " 50%|████████████████████▌                    | 264/528 [01:50<01:50,  2.40it/s]\n",
      "100%|█████████████████████████████████████████| 777/777 [00:58<00:00, 13.20it/s]\n"
     ]
    },
    {
     "name": "stdout",
     "output_type": "stream",
     "text": [
      "\n",
      "47 - 68.3143 - 3.9259289658562976e-07 - 0.0009060417634459032\n"
     ]
    },
    {
     "name": "stderr",
     "output_type": "stream",
     "text": [
      " 50%|████████████████████▌                    | 264/528 [01:50<01:50,  2.39it/s]\n",
      "100%|█████████████████████████████████████████| 777/777 [01:03<00:00, 12.29it/s]\n"
     ]
    },
    {
     "name": "stdout",
     "output_type": "stream",
     "text": [
      "\n",
      "48 - 93.4672 - 3.885661963296827e-07 - 0.0009014087375955574\n"
     ]
    },
    {
     "name": "stderr",
     "output_type": "stream",
     "text": [
      " 50%|████████████████████▌                    | 264/528 [01:51<01:51,  2.38it/s]\n",
      "100%|█████████████████████████████████████████| 777/777 [00:57<00:00, 13.54it/s]\n"
     ]
    },
    {
     "name": "stdout",
     "output_type": "stream",
     "text": [
      "\n",
      "49 - 67.8836 - 3.8466090931041483e-07 - 0.0008966766701456176\n"
     ]
    },
    {
     "name": "stderr",
     "output_type": "stream",
     "text": [
      " 50%|████████████████████▌                    | 264/528 [01:47<01:47,  2.46it/s]\n",
      "100%|█████████████████████████████████████████| 777/777 [00:59<00:00, 13.16it/s]\n"
     ]
    },
    {
     "name": "stdout",
     "output_type": "stream",
     "text": [
      "\n",
      "50 - 64.6877 - 3.808710542328806e-07 - 0.0008918467286629199\n"
     ]
    },
    {
     "name": "stderr",
     "output_type": "stream",
     "text": [
      " 50%|████████████████████▌                    | 264/528 [01:46<01:46,  2.47it/s]\n",
      "100%|█████████████████████████████████████████| 777/777 [00:59<00:00, 13.12it/s]\n"
     ]
    },
    {
     "name": "stdout",
     "output_type": "stream",
     "text": [
      "\n",
      "51 - 90.7744 - 3.771910543634903e-07 - 0.0008869201048632531\n"
     ]
    },
    {
     "name": "stderr",
     "output_type": "stream",
     "text": [
      " 50%|████████████████████▌                    | 264/528 [01:49<01:49,  2.42it/s]\n",
      "100%|█████████████████████████████████████████| 777/777 [01:02<00:00, 12.39it/s]\n"
     ]
    },
    {
     "name": "stdout",
     "output_type": "stream",
     "text": [
      "\n",
      "52 - 93.7852 - 3.7361570301469566e-07 - 0.0008818980143173212\n"
     ]
    },
    {
     "name": "stderr",
     "output_type": "stream",
     "text": [
      " 50%|████████████████████▌                    | 264/528 [01:49<01:49,  2.41it/s]\n",
      "100%|█████████████████████████████████████████| 777/777 [01:02<00:00, 12.45it/s]\n"
     ]
    },
    {
     "name": "stdout",
     "output_type": "stream",
     "text": [
      "\n",
      "53 - 59.3745 - 3.701401325618238e-07 - 0.000876781696150819\n"
     ]
    },
    {
     "name": "stderr",
     "output_type": "stream",
     "text": [
      " 50%|████████████████████▌                    | 264/528 [01:47<01:47,  2.45it/s]\n",
      "100%|█████████████████████████████████████████| 777/777 [01:03<00:00, 12.28it/s]\n"
     ]
    },
    {
     "name": "stdout",
     "output_type": "stream",
     "text": [
      "\n",
      "54 - 85.6867 - 3.667597865726721e-07 - 0.0008715724127386971\n"
     ]
    },
    {
     "name": "stderr",
     "output_type": "stream",
     "text": [
      " 50%|████████████████████▌                    | 264/528 [01:49<01:49,  2.42it/s]\n",
      "100%|█████████████████████████████████████████| 777/777 [01:02<00:00, 12.45it/s]\n"
     ]
    },
    {
     "name": "stdout",
     "output_type": "stream",
     "text": [
      "\n",
      "55 - 92.7347 - 3.634703946869027e-07 - 0.0008662714493936894\n"
     ]
    },
    {
     "name": "stderr",
     "output_type": "stream",
     "text": [
      " 50%|████████████████████▌                    | 264/528 [01:50<01:50,  2.38it/s]\n",
      "100%|█████████████████████████████████████████| 777/777 [01:00<00:00, 12.84it/s]\n"
     ]
    },
    {
     "name": "stdout",
     "output_type": "stream",
     "text": [
      "\n",
      "56 - 75.2898 - 3.6026794993024727e-07 - 0.0008608801140491811\n"
     ]
    },
    {
     "name": "stderr",
     "output_type": "stream",
     "text": [
      " 50%|████████████████████▌                    | 264/528 [01:46<01:46,  2.47it/s]\n",
      "100%|█████████████████████████████████████████| 777/777 [01:02<00:00, 12.46it/s]\n"
     ]
    },
    {
     "name": "stdout",
     "output_type": "stream",
     "text": [
      "\n",
      "57 - 93.6403 - 3.5714868818944876e-07 - 0.0008553997369364963\n"
     ]
    },
    {
     "name": "stderr",
     "output_type": "stream",
     "text": [
      " 50%|████████████████████▌                    | 264/528 [01:51<01:51,  2.37it/s]\n",
      "100%|█████████████████████████████████████████| 777/777 [01:00<00:00, 12.88it/s]\n"
     ]
    },
    {
     "name": "stdout",
     "output_type": "stream",
     "text": [
      "\n",
      "58 - 93.2660 - 3.5410906960885676e-07 - 0.0008498316702566827\n"
     ]
    },
    {
     "name": "stderr",
     "output_type": "stream",
     "text": [
      " 50%|████████████████████▌                    | 264/528 [01:46<01:46,  2.47it/s]\n",
      "100%|█████████████████████████████████████████| 777/777 [01:05<00:00, 11.86it/s]\n"
     ]
    },
    {
     "name": "stdout",
     "output_type": "stream",
     "text": [
      "\n",
      "59 - 70.5160 - 3.5114576169960527e-07 - 0.000844177287846877\n"
     ]
    },
    {
     "name": "stderr",
     "output_type": "stream",
     "text": [
      " 50%|████████████████████▌                    | 264/528 [01:45<01:45,  2.51it/s]\n",
      "100%|█████████████████████████████████████████| 777/777 [00:56<00:00, 13.76it/s]\n"
     ]
    },
    {
     "name": "stdout",
     "output_type": "stream",
     "text": [
      "\n",
      "60 - 93.4914 - 3.482556239781197e-07 - 0.0008384379848413304\n"
     ]
    },
    {
     "name": "stderr",
     "output_type": "stream",
     "text": [
      " 50%|████████████████████▌                    | 264/528 [01:45<01:45,  2.51it/s]\n",
      "100%|█████████████████████████████████████████| 777/777 [00:56<00:00, 13.75it/s]\n"
     ]
    },
    {
     "name": "stdout",
     "output_type": "stream",
     "text": [
      "\n",
      "61 - 75.3140 - 3.454356939729546e-07 - 0.0008326151773271804\n"
     ]
    },
    {
     "name": "stderr",
     "output_type": "stream",
     "text": [
      " 50%|████████████████████▌                    | 264/528 [01:44<01:44,  2.51it/s]\n",
      "100%|█████████████████████████████████████████| 777/777 [00:56<00:00, 13.78it/s]\n"
     ]
    },
    {
     "name": "stdout",
     "output_type": "stream",
     "text": [
      "\n",
      "62 - 76.9361 - 3.426831744582131e-07 - 0.0008267103019950528\n"
     ]
    },
    {
     "name": "stderr",
     "output_type": "stream",
     "text": [
      " 50%|████████████████████▌                    | 264/528 [01:45<01:45,  2.51it/s]\n",
      "100%|█████████████████████████████████████████| 777/777 [00:56<00:00, 13.74it/s]\n"
     ]
    },
    {
     "name": "stdout",
     "output_type": "stream",
     "text": [
      "\n",
      "63 - 95.3309 - 3.3999542178847236e-07 - 0.000820724815784579\n"
     ]
    },
    {
     "name": "stderr",
     "output_type": "stream",
     "text": [
      " 50%|████████████████████▌                    | 264/528 [01:45<01:45,  2.51it/s]\n",
      "100%|█████████████████████████████████████████| 777/777 [00:56<00:00, 13.72it/s]\n"
     ]
    },
    {
     "name": "stdout",
     "output_type": "stream",
     "text": [
      "\n",
      "64 - 94.7995 - 3.3736993522463323e-07 - 0.0008146601955249188\n"
     ]
    },
    {
     "name": "stderr",
     "output_type": "stream",
     "text": [
      " 50%|████████████████████▌                    | 264/528 [01:44<01:44,  2.51it/s]\n",
      "100%|█████████████████████████████████████████| 777/777 [00:56<00:00, 13.76it/s]\n"
     ]
    },
    {
     "name": "stdout",
     "output_type": "stream",
     "text": [
      "\n",
      "65 - 77.3748 - 3.348043471527214e-07 - 0.0008085179375703744\n"
     ]
    },
    {
     "name": "stderr",
     "output_type": "stream",
     "text": [
      " 50%|████████████████████▌                    | 264/528 [01:44<01:44,  2.52it/s]\n",
      "100%|█████████████████████████████████████████| 777/777 [00:56<00:00, 13.78it/s]\n"
     ]
    },
    {
     "name": "stdout",
     "output_type": "stream",
     "text": [
      "\n",
      "66 - 96.6229 - 3.322964141086824e-07 - 0.0008022995574311875\n"
     ]
    },
    {
     "name": "stderr",
     "output_type": "stream",
     "text": [
      " 50%|████████████████████▌                    | 264/528 [01:45<01:45,  2.51it/s]\n",
      "100%|█████████████████████████████████████████| 777/777 [00:56<00:00, 13.75it/s]\n"
     ]
    },
    {
     "name": "stdout",
     "output_type": "stream",
     "text": [
      "\n",
      "67 - 92.6944 - 3.2984400853183523e-07 - 0.0007960065893996098\n"
     ]
    },
    {
     "name": "stderr",
     "output_type": "stream",
     "text": [
      " 50%|████████████████████▌                    | 264/528 [01:45<01:45,  2.51it/s]\n",
      "100%|█████████████████████████████████████████| 777/777 [00:58<00:00, 13.20it/s]\n"
     ]
    },
    {
     "name": "stdout",
     "output_type": "stream",
     "text": [
      "\n",
      "68 - 57.2130 - 3.2744511117808935e-07 - 0.0007896405861713394\n"
     ]
    },
    {
     "name": "stderr",
     "output_type": "stream",
     "text": [
      " 50%|████████████████████▌                    | 264/528 [01:46<01:46,  2.48it/s]\n",
      "100%|█████████████████████████████████████████| 777/777 [00:56<00:00, 13.72it/s]\n"
     ]
    },
    {
     "name": "stdout",
     "output_type": "stream",
     "text": [
      "\n",
      "69 - 93.8738 - 3.2509780413143717e-07 - 0.0007832031184624164\n"
     ]
    },
    {
     "name": "stderr",
     "output_type": "stream",
     "text": [
      " 50%|████████████████████▌                    | 264/528 [01:45<01:45,  2.51it/s]\n",
      "100%|█████████████████████████████████████████| 777/777 [00:56<00:00, 13.77it/s]\n"
     ]
    },
    {
     "name": "stdout",
     "output_type": "stream",
     "text": [
      "\n",
      "70 - 91.7244 - 3.228002643587534e-07 - 0.000776695774621672\n"
     ]
    },
    {
     "name": "stderr",
     "output_type": "stream",
     "text": [
      " 50%|████████████████████▌                    | 264/528 [01:45<01:45,  2.51it/s]\n",
      "100%|█████████████████████████████████████████| 777/777 [00:56<00:00, 13.78it/s]\n"
     ]
    },
    {
     "name": "stdout",
     "output_type": "stream",
     "text": [
      "\n",
      "71 - 73.4584 - 3.2055075775867903e-07 - 0.0007701201602388275\n"
     ]
    },
    {
     "name": "stderr",
     "output_type": "stream",
     "text": [
      " 50%|████████████████████▌                    | 264/528 [01:44<01:44,  2.51it/s]\n",
      "100%|█████████████████████████████████████████| 777/777 [00:56<00:00, 13.71it/s]\n"
     ]
    },
    {
     "name": "stdout",
     "output_type": "stream",
     "text": [
      "\n",
      "72 - 81.2953 - 3.183476336604407e-07 - 0.0007634778977483389\n"
     ]
    },
    {
     "name": "stderr",
     "output_type": "stream",
     "text": [
      " 50%|████████████████████▌                    | 264/528 [01:45<01:45,  2.51it/s]\n",
      "100%|█████████████████████████████████████████| 777/777 [00:56<00:00, 13.75it/s]\n"
     ]
    },
    {
     "name": "stdout",
     "output_type": "stream",
     "text": [
      "\n",
      "73 - 94.8398 - 3.1618931973295036e-07 - 0.000756770626029085\n"
     ]
    },
    {
     "name": "stderr",
     "output_type": "stream",
     "text": [
      " 50%|████████████████████▌                    | 264/528 [01:44<01:44,  2.51it/s]\n",
      "100%|█████████████████████████████████████████| 777/777 [00:56<00:00, 13.79it/s]\n"
     ]
    },
    {
     "name": "stdout",
     "output_type": "stream",
     "text": [
      "\n",
      "74 - 64.1080 - 3.1407431726850383e-07 - 0.00075\n"
     ]
    },
    {
     "name": "stderr",
     "output_type": "stream",
     "text": [
      " 50%|████████████████████▌                    | 264/528 [01:45<01:45,  2.51it/s]\n",
      "100%|█████████████████████████████████████████| 777/777 [00:56<00:00, 13.71it/s]\n"
     ]
    },
    {
     "name": "stdout",
     "output_type": "stream",
     "text": [
      "\n",
      "75 - 93.8214 - 3.120011968089343e-07 - 0.0007431676902117453\n"
     ]
    },
    {
     "name": "stderr",
     "output_type": "stream",
     "text": [
      " 50%|████████████████████▌                    | 264/528 [01:44<01:44,  2.52it/s]\n",
      "100%|█████████████████████████████████████████| 777/777 [00:56<00:00, 13.73it/s]\n"
     ]
    },
    {
     "name": "stdout",
     "output_type": "stream",
     "text": [
      "\n",
      "76 - 84.2537 - 3.099685940852165e-07 - 0.0007362753824345271\n"
     ]
    },
    {
     "name": "stderr",
     "output_type": "stream",
     "text": [
      " 50%|████████████████████▌                    | 264/528 [01:45<01:45,  2.51it/s]\n",
      "100%|█████████████████████████████████████████| 777/777 [00:56<00:00, 13.68it/s]\n"
     ]
    },
    {
     "name": "stdout",
     "output_type": "stream",
     "text": [
      "\n",
      "77 - 76.0948 - 3.079752062443139e-07 - 0.0007293247772421576\n"
     ]
    },
    {
     "name": "stderr",
     "output_type": "stream",
     "text": [
      " 50%|████████████████████▌                    | 264/528 [01:45<01:45,  2.51it/s]\n",
      "100%|█████████████████████████████████████████| 777/777 [00:56<00:00, 13.72it/s]\n"
     ]
    },
    {
     "name": "stdout",
     "output_type": "stream",
     "text": [
      "\n",
      "78 - 94.0791 - 3.060197883395604e-07 - 0.0007223175895924637\n"
     ]
    },
    {
     "name": "stderr",
     "output_type": "stream",
     "text": [
      " 50%|████████████████████▌                    | 264/528 [01:45<01:45,  2.51it/s]\n",
      "100%|█████████████████████████████████████████| 777/777 [00:56<00:00, 13.80it/s]\n"
     ]
    },
    {
     "name": "stdout",
     "output_type": "stream",
     "text": [
      "\n",
      "79 - 89.0436 - 3.041011500630949e-07 - 0.0007152555484041476\n"
     ]
    },
    {
     "name": "stderr",
     "output_type": "stream",
     "text": [
      " 50%|████████████████████▌                    | 264/528 [01:45<01:45,  2.51it/s]\n",
      "100%|█████████████████████████████████████████| 777/777 [00:56<00:00, 13.75it/s]\n"
     ]
    },
    {
     "name": "stdout",
     "output_type": "stream",
     "text": [
      "\n",
      "80 - 74.5411 - 3.022181527008643e-07 - 0.0007081403961302007\n"
     ]
    },
    {
     "name": "stderr",
     "output_type": "stream",
     "text": [
      " 50%|████████████████████▌                    | 264/528 [01:45<01:45,  2.51it/s]\n",
      "100%|█████████████████████████████████████████| 777/777 [00:56<00:00, 13.65it/s]\n"
     ]
    },
    {
     "name": "stdout",
     "output_type": "stream",
     "text": [
      "\n",
      "81 - 92.8474 - 3.003697062924971e-07 - 0.0007009738883279801\n"
     ]
    },
    {
     "name": "stderr",
     "output_type": "stream",
     "text": [
      " 50%|████████████████████▌                    | 264/528 [01:44<01:44,  2.52it/s]\n",
      "100%|█████████████████████████████████████████| 777/777 [00:56<00:00, 13.64it/s]\n"
     ]
    },
    {
     "name": "stdout",
     "output_type": "stream",
     "text": [
      "\n",
      "82 - 93.7651 - 2.9855476697995445e-07 - 0.0006937577932260515\n"
     ]
    },
    {
     "name": "stderr",
     "output_type": "stream",
     "text": [
      " 50%|████████████████████▌                    | 264/528 [01:45<01:45,  2.51it/s]\n",
      "100%|█████████████████████████████████████████| 777/777 [00:56<00:00, 13.72it/s]\n"
     ]
    },
    {
     "name": "stdout",
     "output_type": "stream",
     "text": [
      "\n",
      "83 - 74.9114 - 2.967723345303072e-07 - 0.0006864938912879045\n"
     ]
    },
    {
     "name": "stderr",
     "output_type": "stream",
     "text": [
      " 50%|████████████████████▌                    | 264/528 [01:45<01:45,  2.51it/s]\n",
      "100%|█████████████████████████████████████████| 777/777 [00:56<00:00, 13.77it/s]\n"
     ]
    },
    {
     "name": "stdout",
     "output_type": "stream",
     "text": [
      "\n",
      "84 - 96.4378 - 2.9502145001928167e-07 - 0.0006791839747726501\n"
     ]
    },
    {
     "name": "stderr",
     "output_type": "stream",
     "text": [
      " 50%|████████████████████▌                    | 264/528 [01:46<01:46,  2.47it/s]\n",
      "100%|█████████████████████████████████████████| 777/777 [00:56<00:00, 13.73it/s]\n"
     ]
    },
    {
     "name": "stdout",
     "output_type": "stream",
     "text": [
      "\n",
      "85 - 93.8778 - 2.933011936633898e-07 - 0.0006718298472928082\n"
     ]
    },
    {
     "name": "stderr",
     "output_type": "stream",
     "text": [
      " 50%|████████████████████▌                    | 264/528 [01:44<01:44,  2.51it/s]\n",
      "100%|█████████████████████████████████████████| 777/777 [00:56<00:00, 13.75it/s]\n"
     ]
    },
    {
     "name": "stdout",
     "output_type": "stream",
     "text": [
      "\n",
      "86 - 77.1454 - 2.9161068278950743e-07 - 0.0006644333233692916\n"
     ]
    },
    {
     "name": "stderr",
     "output_type": "stream",
     "text": [
      " 50%|████████████████████▌                    | 264/528 [01:45<01:45,  2.51it/s]\n",
      "100%|█████████████████████████████████████████| 777/777 [00:56<00:00, 13.71it/s]\n"
     ]
    },
    {
     "name": "stdout",
     "output_type": "stream",
     "text": [
      "\n",
      "87 - 97.1502 - 2.899490699317209e-07 - 0.0006569962279837025\n"
     ]
    },
    {
     "name": "stderr",
     "output_type": "stream",
     "text": [
      " 50%|████████████████████▌                    | 264/528 [01:45<01:45,  2.51it/s]\n",
      "100%|█████████████████████████████████████████| 777/777 [00:56<00:00, 13.72it/s]\n"
     ]
    },
    {
     "name": "stdout",
     "output_type": "stream",
     "text": [
      "\n",
      "88 - 90.7946 - 2.883155410461191e-07 - 0.0006495203961280433\n"
     ]
    },
    {
     "name": "stderr",
     "output_type": "stream",
     "text": [
      " 50%|████████████████████▌                    | 264/528 [01:45<01:45,  2.51it/s]\n",
      "100%|█████████████████████████████████████████| 777/777 [00:56<00:00, 13.77it/s]\n"
     ]
    },
    {
     "name": "stdout",
     "output_type": "stream",
     "text": [
      "\n",
      "89 - 79.0010 - 2.8670931383498973e-07 - 0.0006420076723519614\n"
     ]
    },
    {
     "name": "stderr",
     "output_type": "stream",
     "text": [
      " 50%|████████████████████▌                    | 264/528 [01:45<01:45,  2.51it/s]\n",
      "100%|█████████████████████████████████████████| 777/777 [00:56<00:00, 13.66it/s]\n"
     ]
    },
    {
     "name": "stdout",
     "output_type": "stream",
     "text": [
      "\n",
      "90 - 96.9490 - 2.8512963617258277e-07 - 0.0006344599103076329\n"
     ]
    },
    {
     "name": "stderr",
     "output_type": "stream",
     "text": [
      " 50%|████████████████████▌                    | 264/528 [01:45<01:45,  2.50it/s]\n",
      "100%|█████████████████████████████████████████| 777/777 [01:06<00:00, 11.71it/s]\n"
     ]
    },
    {
     "name": "stdout",
     "output_type": "stream",
     "text": [
      "\n",
      "91 - 95.7253 - 2.8357578462524527e-07 - 0.0006268789722924028\n"
     ]
    },
    {
     "name": "stderr",
     "output_type": "stream",
     "text": [
      " 50%|████████████████████▌                    | 264/528 [01:44<01:44,  2.52it/s]\n",
      "100%|█████████████████████████████████████████| 777/777 [01:01<00:00, 12.61it/s]\n"
     ]
    },
    {
     "name": "stdout",
     "output_type": "stream",
     "text": [
      "\n",
      "92 - 80.9451 - 2.8204706305931375e-07 - 0.0006192667287892905\n"
     ]
    },
    {
     "name": "stderr",
     "output_type": "stream",
     "text": [
      " 50%|████████████████████▌                    | 264/528 [01:45<01:45,  2.50it/s]\n",
      "100%|█████████████████████████████████████████| 777/777 [00:59<00:00, 13.07it/s]\n"
     ]
    },
    {
     "name": "stdout",
     "output_type": "stream",
     "text": [
      "\n",
      "93 - 97.2589 - 2.805428013306803e-07 - 0.0006116250580054757\n"
     ]
    },
    {
     "name": "stderr",
     "output_type": "stream",
     "text": [
      " 50%|████████████████████▌                    | 264/528 [01:45<01:45,  2.50it/s]\n",
      "100%|█████████████████████████████████████████| 777/777 [01:00<00:00, 12.91it/s]\n"
     ]
    },
    {
     "name": "stdout",
     "output_type": "stream",
     "text": [
      "\n",
      "94 - 93.2942 - 2.79062354050427e-07 - 0.0006039558454088796\n"
     ]
    },
    {
     "name": "stderr",
     "output_type": "stream",
     "text": [
      " 50%|████████████████████▌                    | 264/528 [01:45<01:45,  2.50it/s]\n",
      "100%|█████████████████████████████████████████| 777/777 [00:59<00:00, 13.08it/s]\n"
     ]
    },
    {
     "name": "stdout",
     "output_type": "stream",
     "text": [
      "\n",
      "95 - 82.6356 - 2.776050994213678e-07 - 0.0005962609832629537\n"
     ]
    },
    {
     "name": "stderr",
     "output_type": "stream",
     "text": [
      " 50%|████████████████████▌                    | 264/528 [01:45<01:45,  2.50it/s]\n",
      "100%|█████████████████████████████████████████| 777/777 [00:59<00:00, 13.07it/s]\n"
     ]
    },
    {
     "name": "stdout",
     "output_type": "stream",
     "text": [
      "\n",
      "96 - 94.6305 - 2.761704381407302e-07 - 0.0005885423701597918\n"
     ]
    },
    {
     "name": "stderr",
     "output_type": "stream",
     "text": [
      " 50%|████████████████████▌                    | 264/528 [01:45<01:45,  2.50it/s]\n",
      "100%|█████████████████████████████████████████| 777/777 [00:59<00:00, 13.11it/s]\n"
     ]
    },
    {
     "name": "stdout",
     "output_type": "stream",
     "text": [
      "\n",
      "97 - 93.4471 - 2.7475779236458203e-07 - 0.0005808019105516806\n"
     ]
    },
    {
     "name": "stderr",
     "output_type": "stream",
     "text": [
      " 50%|████████████████████▌                    | 264/528 [01:45<01:45,  2.50it/s]\n",
      "100%|█████████████████████████████████████████| 777/777 [00:59<00:00, 12.98it/s]\n"
     ]
    },
    {
     "name": "stdout",
     "output_type": "stream",
     "text": [
      "\n",
      "98 - 79.9308 - 2.7336660472993645e-07 - 0.0005730415142812059\n"
     ]
    },
    {
     "name": "stderr",
     "output_type": "stream",
     "text": [
      " 50%|████████████████████▌                    | 264/528 [01:46<01:46,  2.49it/s]\n",
      "100%|█████████████████████████████████████████| 777/777 [00:59<00:00, 13.04it/s]\n"
     ]
    },
    {
     "name": "stdout",
     "output_type": "stream",
     "text": [
      "\n",
      "99 - 97.2227 - 2.719963374307779e-07 - 0.000565263096110026\n"
     ]
    },
    {
     "name": "stderr",
     "output_type": "stream",
     "text": [
      " 50%|████████████████████▌                    | 264/528 [01:45<01:45,  2.50it/s]\n",
      "100%|█████████████████████████████████████████| 777/777 [01:06<00:00, 11.66it/s]\n"
     ]
    },
    {
     "name": "stdout",
     "output_type": "stream",
     "text": [
      "\n",
      "100 - 96.7517 - 2.706464713445293e-07 - 0.0005574685752464334\n"
     ]
    },
    {
     "name": "stderr",
     "output_type": "stream",
     "text": [
      " 50%|████████████████████▌                    | 264/528 [01:47<01:47,  2.46it/s]\n",
      "100%|█████████████████████████████████████████| 777/777 [00:59<00:00, 13.02it/s]\n"
     ]
    },
    {
     "name": "stdout",
     "output_type": "stream",
     "text": [
      "\n",
      "101 - 83.6500 - 2.693165052057391e-07 - 0.0005496598748718196\n"
     ]
    },
    {
     "name": "stderr",
     "output_type": "stream",
     "text": [
      " 50%|████████████████████▌                    | 264/528 [01:45<01:45,  2.50it/s]\n",
      "100%|█████████████████████████████████████████| 777/777 [01:00<00:00, 12.82it/s]\n"
     ]
    },
    {
     "name": "stdout",
     "output_type": "stream",
     "text": [
      "\n",
      "102 - 96.2727 - 2.680059548239999e-07 - 0.0005418389216661579\n"
     ]
    },
    {
     "name": "stderr",
     "output_type": "stream",
     "text": [
      " 50%|████████████████████▌                    | 264/528 [01:51<01:51,  2.38it/s]\n",
      "100%|█████████████████████████████████████████| 777/777 [01:07<00:00, 11.52it/s]\n"
     ]
    },
    {
     "name": "stdout",
     "output_type": "stream",
     "text": [
      "\n",
      "103 - 94.6748 - 2.6671435234332775e-07 - 0.0005340076453326241\n"
     ]
    },
    {
     "name": "stderr",
     "output_type": "stream",
     "text": [
      " 50%|████████████████████▌                    | 264/528 [01:48<01:48,  2.44it/s]\n",
      "100%|█████████████████████████████████████████| 777/777 [01:00<00:00, 12.90it/s]\n"
     ]
    },
    {
     "name": "stdout",
     "output_type": "stream",
     "text": [
      "\n",
      "104 - 84.9058 - 2.6544124554043e-07 - 0.000526167978121472\n"
     ]
    },
    {
     "name": "stderr",
     "output_type": "stream",
     "text": [
      " 50%|████████████████████▌                    | 264/528 [01:46<01:46,  2.47it/s]\n",
      "100%|█████████████████████████████████████████| 777/777 [00:59<00:00, 13.02it/s]\n"
     ]
    },
    {
     "name": "stdout",
     "output_type": "stream",
     "text": [
      "\n",
      "105 - 97.3313 - 2.6418619715947053e-07 - 0.0005183218543532782\n"
     ]
    },
    {
     "name": "stderr",
     "output_type": "stream",
     "text": [
      " 50%|████████████████████▌                    | 264/528 [01:45<01:45,  2.50it/s]\n",
      "100%|█████████████████████████████████████████| 777/777 [01:02<00:00, 12.44it/s]\n"
     ]
    },
    {
     "name": "stdout",
     "output_type": "stream",
     "text": [
      "\n",
      "106 - 85.9564 - 2.6294878428110985e-07 - 0.0005104712099416785\n"
     ]
    },
    {
     "name": "stderr",
     "output_type": "stream",
     "text": [
      " 50%|████████████████████▌                    | 264/528 [01:46<01:46,  2.47it/s]\n",
      "100%|█████████████████████████████████████████| 777/777 [01:02<00:00, 12.49it/s]\n"
     ]
    },
    {
     "name": "stdout",
     "output_type": "stream",
     "text": [
      "\n",
      "107 - 85.5458 - 2.6172859772375317e-07 - 0.0005026179819157098\n"
     ]
    },
    {
     "name": "stderr",
     "output_type": "stream",
     "text": [
      " 50%|████████████████████▌                    | 264/528 [01:48<01:48,  2.43it/s]\n",
      "100%|█████████████████████████████████████████| 777/777 [01:06<00:00, 11.69it/s]\n"
     ]
    },
    {
     "name": "stdout",
     "output_type": "stream",
     "text": [
      "\n",
      "108 - 96.6229 - 2.605252414750808e-07 - 0.0004947641079418773\n"
     ]
    },
    {
     "name": "stderr",
     "output_type": "stream",
     "text": [
      " 50%|████████████████████▌                    | 264/528 [01:48<01:48,  2.42it/s]\n",
      "100%|█████████████████████████████████████████| 777/777 [01:02<00:00, 12.48it/s]\n"
     ]
    },
    {
     "name": "stdout",
     "output_type": "stream",
     "text": [
      "\n",
      "109 - 93.8818 - 2.593383321520673e-07 - 0.0004869115258460635\n"
     ]
    },
    {
     "name": "stderr",
     "output_type": "stream",
     "text": [
      " 50%|████████████████████▌                    | 264/528 [01:49<01:49,  2.42it/s]\n",
      "100%|█████████████████████████████████████████| 777/777 [01:06<00:00, 11.70it/s]\n"
     ]
    },
    {
     "name": "stdout",
     "output_type": "stream",
     "text": [
      "\n",
      "110 - 83.8150 - 2.5816749848781757e-07 - 0.0004790621731354003\n"
     ]
    },
    {
     "name": "stderr",
     "output_type": "stream",
     "text": [
      " 50%|████████████████████▌                    | 264/528 [01:51<01:51,  2.37it/s]\n",
      "100%|█████████████████████████████████████████| 777/777 [00:58<00:00, 13.33it/s]\n"
     ]
    },
    {
     "name": "stdout",
     "output_type": "stream",
     "text": [
      "\n",
      "111 - 95.6609 - 2.5701238084365975e-07 - 0.0004712179865202164\n"
     ]
    },
    {
     "name": "stderr",
     "output_type": "stream",
     "text": [
      " 50%|████████████████████▌                    | 264/528 [01:49<01:49,  2.41it/s]\n",
      "100%|█████████████████████████████████████████| 777/777 [01:00<00:00, 12.86it/s]\n"
     ]
    },
    {
     "name": "stdout",
     "output_type": "stream",
     "text": [
      "\n",
      "112 - 92.2798 - 2.558726307450393e-07 - 0.00046338090143618427\n"
     ]
    },
    {
     "name": "stderr",
     "output_type": "stream",
     "text": [
      " 50%|████████████████████▌                    | 264/528 [01:46<01:46,  2.48it/s]\n",
      "100%|█████████████████████████████████████████| 777/777 [01:01<00:00, 12.70it/s]\n"
     ]
    },
    {
     "name": "stdout",
     "output_type": "stream",
     "text": [
      "\n",
      "113 - 86.9465 - 2.547479104398534e-07 - 0.0004555528515667793\n"
     ]
    },
    {
     "name": "stderr",
     "output_type": "stream",
     "text": [
      " 50%|████████████████████▌                    | 264/528 [01:47<01:47,  2.45it/s]\n",
      "100%|█████████████████████████████████████████| 777/777 [01:00<00:00, 12.75it/s]\n"
     ]
    },
    {
     "name": "stdout",
     "output_type": "stream",
     "text": [
      "\n",
      "114 - 96.6431 - 2.5363789247795524e-07 - 0.00044773576836617336\n"
     ]
    },
    {
     "name": "stderr",
     "output_type": "stream",
     "text": [
      " 50%|████████████████████▌                    | 264/528 [01:51<01:51,  2.38it/s]\n",
      "100%|█████████████████████████████████████████| 777/777 [01:04<00:00, 12.10it/s]\n"
     ]
    },
    {
     "name": "stdout",
     "output_type": "stream",
     "text": [
      "\n",
      "115 - 94.0267 - 2.52542259310639e-07 - 0.00043993158058267646\n"
     ]
    },
    {
     "name": "stderr",
     "output_type": "stream",
     "text": [
      " 50%|████████████████████▌                    | 264/528 [01:48<01:48,  2.43it/s]\n",
      "100%|█████████████████████████████████████████| 777/777 [01:06<00:00, 11.63it/s]\n"
     ]
    },
    {
     "name": "stdout",
     "output_type": "stream",
     "text": [
      "\n",
      "116 - 83.3964 - 2.514607029089936e-07 - 0.00043214221378284787\n"
     ]
    },
    {
     "name": "stderr",
     "output_type": "stream",
     "text": [
      " 50%|████████████████████▌                    | 264/528 [01:47<01:47,  2.47it/s]\n",
      "100%|█████████████████████████████████████████| 777/777 [01:01<00:00, 12.58it/s]\n"
     ]
    },
    {
     "name": "stdout",
     "output_type": "stream",
     "text": [
      "\n",
      "117 - 96.1198 - 2.503929244000818e-07 - 0.0004243695898763904\n"
     ]
    },
    {
     "name": "stderr",
     "output_type": "stream",
     "text": [
      " 50%|████████████████████▌                    | 264/528 [01:49<01:49,  2.42it/s]\n",
      "100%|█████████████████████████████████████████| 777/777 [01:02<00:00, 12.48it/s]\n"
     ]
    },
    {
     "name": "stdout",
     "output_type": "stream",
     "text": [
      "\n",
      "118 - 94.6707 - 2.4933863371997234e-07 - 0.0004166156266419489\n"
     ]
    },
    {
     "name": "stderr",
     "output_type": "stream",
     "text": [
      " 50%|████████████████████▌                    | 264/528 [01:48<01:48,  2.44it/s]\n",
      "100%|█████████████████████████████████████████| 777/777 [01:06<00:00, 11.63it/s]\n"
     ]
    },
    {
     "name": "stdout",
     "output_type": "stream",
     "text": [
      "\n",
      "119 - 88.7055 - 2.482975492827064e-07 - 0.00040888223725392626\n"
     ]
    },
    {
     "name": "stderr",
     "output_type": "stream",
     "text": [
      " 50%|████████████████████▌                    | 264/528 [01:46<01:46,  2.47it/s]\n",
      "100%|█████████████████████████████████████████| 777/777 [01:01<00:00, 12.68it/s]\n"
     ]
    },
    {
     "name": "stdout",
     "output_type": "stream",
     "text": [
      "\n",
      "120 - 97.3837 - 2.472693976643435e-07 - 0.0004011713298104369\n"
     ]
    },
    {
     "name": "stderr",
     "output_type": "stream",
     "text": [
      " 50%|████████████████████▌                    | 264/528 [01:49<01:49,  2.41it/s]\n",
      "100%|█████████████████████████████████████████| 777/777 [01:00<00:00, 12.86it/s]\n"
     ]
    },
    {
     "name": "stdout",
     "output_type": "stream",
     "text": [
      "\n",
      "121 - 95.7213 - 2.4625391330128086e-07 - 0.00039348480686251174\n"
     ]
    },
    {
     "name": "stderr",
     "output_type": "stream",
     "text": [
      " 50%|████████████████████▌                    | 264/528 [01:47<01:47,  2.46it/s]\n",
      "100%|█████████████████████████████████████████| 777/777 [01:01<00:00, 12.58it/s]\n"
     ]
    },
    {
     "name": "stdout",
     "output_type": "stream",
     "text": [
      "\n",
      "122 - 89.3817 - 2.4525083820208917e-07 - 0.0003858245649446721\n"
     ]
    },
    {
     "name": "stderr",
     "output_type": "stream",
     "text": [
      " 50%|████████████████████▌                    | 264/528 [01:54<01:54,  2.31it/s]\n",
      "100%|█████████████████████████████████████████| 777/777 [01:01<00:00, 12.66it/s]\n"
     ]
    },
    {
     "name": "stdout",
     "output_type": "stream",
     "text": [
      "\n",
      "123 - 97.2267 - 2.442599216721572e-07 - 0.00037819249410698874\n"
     ]
    },
    {
     "name": "stderr",
     "output_type": "stream",
     "text": [
      " 50%|████████████████████▌                    | 264/528 [01:48<01:48,  2.44it/s]\n",
      "100%|█████████████████████████████████████████| 777/777 [01:03<00:00, 12.29it/s]\n"
     ]
    },
    {
     "name": "stdout",
     "output_type": "stream",
     "text": [
      "\n",
      "124 - 96.0312 - 2.4328092005047596e-07 - 0.0003705904774487396\n"
     ]
    },
    {
     "name": "stderr",
     "output_type": "stream",
     "text": [
      " 50%|████████████████████▌                    | 264/528 [01:50<01:50,  2.38it/s]\n",
      "100%|█████████████████████████████████████████| 777/777 [01:03<00:00, 12.21it/s]\n"
     ]
    },
    {
     "name": "stdout",
     "output_type": "stream",
     "text": [
      "\n",
      "125 - 88.6049 - 2.423135964579351e-07 - 0.00036302039065378377\n"
     ]
    },
    {
     "name": "stderr",
     "output_type": "stream",
     "text": [
      " 50%|████████████████████▌                    | 264/528 [01:50<01:50,  2.38it/s]\n",
      "100%|█████████████████████████████████████████| 777/777 [01:02<00:00, 12.53it/s]\n"
     ]
    },
    {
     "name": "stdout",
     "output_type": "stream",
     "text": [
      "\n",
      "126 - 97.7741 - 2.413577205565425e-07 - 0.0003554841015277641\n"
     ]
    },
    {
     "name": "stderr",
     "output_type": "stream",
     "text": [
      " 50%|████████████████████▌                    | 264/528 [01:49<01:49,  2.40it/s]\n",
      "100%|█████████████████████████████████████████| 777/777 [00:58<00:00, 13.17it/s]\n"
     ]
    },
    {
     "name": "stdout",
     "output_type": "stream",
     "text": [
      "\n",
      "127 - 94.2723 - 2.4041306831900926e-07 - 0.00034798346953725484\n"
     ]
    },
    {
     "name": "stderr",
     "output_type": "stream",
     "text": [
      " 50%|████████████████████▌                    | 264/528 [01:51<01:51,  2.36it/s]\n",
      "100%|█████████████████████████████████████████| 777/777 [01:05<00:00, 11.79it/s]\n"
     ]
    },
    {
     "name": "stdout",
     "output_type": "stream",
     "text": [
      "\n",
      "128 - 90.1465 - 2.394794218081786e-07 - 0.000340520345350965\n"
     ]
    },
    {
     "name": "stderr",
     "output_type": "stream",
     "text": [
      " 50%|████████████████████▌                    | 264/528 [01:50<01:50,  2.40it/s]\n",
      "100%|█████████████████████████████████████████| 777/777 [01:13<00:00, 10.62it/s]\n"
     ]
    },
    {
     "name": "stdout",
     "output_type": "stream",
     "text": [
      "\n",
      "129 - 97.6373 - 2.3855656896580447e-07 - 0.00033309657038311456\n"
     ]
    },
    {
     "name": "stderr",
     "output_type": "stream",
     "text": [
      " 50%|████████████████████▌                    | 264/528 [01:49<01:49,  2.41it/s]\n",
      "100%|█████████████████████████████████████████| 777/777 [01:03<00:00, 12.29it/s]\n"
     ]
    },
    {
     "name": "stdout",
     "output_type": "stream",
     "text": [
      "\n",
      "130 - 96.5787 - 2.376443034102152e-07 - 0.0003257139763390925\n"
     ]
    },
    {
     "name": "stderr",
     "output_type": "stream",
     "text": [
      " 50%|████████████████████▌                    | 264/528 [01:49<01:49,  2.41it/s]\n",
      "100%|█████████████████████████████████████████| 777/777 [01:01<00:00, 12.63it/s]\n"
     ]
    },
    {
     "name": "stdout",
     "output_type": "stream",
     "text": [
      "\n",
      "131 - 88.8947 - 2.3674242424242426e-07 - 0.0003183743847635109\n"
     ]
    },
    {
     "name": "stderr",
     "output_type": "stream",
     "text": [
      " 50%|████████████████████▌                    | 264/528 [01:49<01:49,  2.41it/s]\n",
      "100%|█████████████████████████████████████████| 777/777 [01:04<00:00, 12.08it/s]\n"
     ]
    },
    {
     "name": "stdout",
     "output_type": "stream",
     "text": [
      "\n",
      "132 - 97.7298 - 2.3585073586027406e-07 - 0.0003110796065907665\n"
     ]
    },
    {
     "name": "stderr",
     "output_type": "stream",
     "text": [
      " 50%|████████████████████▌                    | 264/528 [01:49<01:49,  2.41it/s]\n",
      "100%|█████████████████████████████████████████| 777/777 [01:04<00:00, 12.02it/s]\n"
     ]
    },
    {
     "name": "stdout",
     "output_type": "stream",
     "text": [
      "\n",
      "133 - 96.5746 - 2.3496904778022249e-07 - 0.0003038314416982194\n"
     ]
    },
    {
     "name": "stderr",
     "output_type": "stream",
     "text": [
      " 50%|████████████████████▌                    | 264/528 [01:51<01:51,  2.38it/s]\n",
      "100%|█████████████████████████████████████████| 777/777 [01:04<00:00, 12.02it/s]\n"
     ]
    },
    {
     "name": "stdout",
     "output_type": "stream",
     "text": [
      "\n",
      "134 - 90.1264 - 2.340971744664035e-07 - 0.0002966316784621\n"
     ]
    },
    {
     "name": "stderr",
     "output_type": "stream",
     "text": [
      " 50%|████████████████████▌                    | 264/528 [01:52<01:52,  2.34it/s]\n",
      "100%|█████████████████████████████████████████| 777/777 [01:03<00:00, 12.24it/s]\n"
     ]
    },
    {
     "name": "stdout",
     "output_type": "stream",
     "text": [
      "\n",
      "135 - 97.7942 - 2.3323493516661412e-07 - 0.00028948209331625455\n"
     ]
    },
    {
     "name": "stderr",
     "output_type": "stream",
     "text": [
      " 50%|████████████████████▌                    | 264/528 [01:47<01:47,  2.46it/s]\n",
      "100%|█████████████████████████████████████████| 777/777 [00:56<00:00, 13.64it/s]\n"
     ]
    },
    {
     "name": "stdout",
     "output_type": "stream",
     "text": [
      "\n",
      "136 - 96.3854 - 2.3238215375489715e-07 - 0.0002823844503138363\n"
     ]
    },
    {
     "name": "stderr",
     "output_type": "stream",
     "text": [
      " 50%|████████████████████▌                    | 264/528 [01:46<01:46,  2.49it/s]\n",
      "100%|█████████████████████████████████████████| 777/777 [00:57<00:00, 13.63it/s]\n"
     ]
    },
    {
     "name": "stdout",
     "output_type": "stream",
     "text": [
      "\n",
      "137 - 92.5817 - 2.3153865858040992e-07 - 0.0002753405006920518\n"
     ]
    },
    {
     "name": "stderr",
     "output_type": "stream",
     "text": [
      " 50%|████████████████████▌                    | 264/528 [01:46<01:46,  2.47it/s]\n",
      "100%|█████████████████████████████████████████| 777/777 [01:00<00:00, 12.91it/s]\n"
     ]
    },
    {
     "name": "stdout",
     "output_type": "stream",
     "text": [
      "\n",
      "138 - 97.6976 - 2.3070428232228372e-07 - 0.00026835198244006924\n"
     ]
    },
    {
     "name": "stderr",
     "output_type": "stream",
     "text": [
      " 50%|████████████████████▌                    | 264/528 [01:47<01:47,  2.45it/s]\n",
      "100%|█████████████████████████████████████████| 777/777 [00:58<00:00, 13.38it/s]\n"
     ]
    },
    {
     "name": "stdout",
     "output_type": "stream",
     "text": [
      "\n",
      "139 - 95.1940 - 2.298788618501952e-07 - 0.00026142061987019576\n"
     ]
    },
    {
     "name": "stderr",
     "output_type": "stream",
     "text": [
      " 50%|████████████████████▌                    | 264/528 [01:45<01:45,  2.50it/s]\n",
      "100%|█████████████████████████████████████████| 777/777 [00:57<00:00, 13.49it/s]\n"
     ]
    },
    {
     "name": "stdout",
     "output_type": "stream",
     "text": [
      "\n",
      "140 - 91.0763 - 2.2906223809038673e-07 - 0.00025454812319242957\n"
     ]
    },
    {
     "name": "stderr",
     "output_type": "stream",
     "text": [
      " 50%|████████████████████▌                    | 264/528 [01:45<01:45,  2.49it/s]\n",
      "100%|█████████████████████████████████████████| 777/777 [00:59<00:00, 13.06it/s]\n"
     ]
    },
    {
     "name": "stdout",
     "output_type": "stream",
     "text": [
      "\n",
      "141 - 97.9391 - 2.2825425589688478e-07 - 0.00024773618809249045\n"
     ]
    },
    {
     "name": "stderr",
     "output_type": "stream",
     "text": [
      " 50%|████████████████████▌                    | 264/528 [01:46<01:46,  2.48it/s]\n",
      "100%|█████████████████████████████████████████| 777/777 [00:57<00:00, 13.50it/s]\n"
     ]
    },
    {
     "name": "stdout",
     "output_type": "stream",
     "text": [
      "\n",
      "142 - 97.0818 - 2.2745476392768063e-07 - 0.00024098649531343496\n"
     ]
    },
    {
     "name": "stderr",
     "output_type": "stream",
     "text": [
      " 50%|████████████████████▌                    | 264/528 [01:45<01:45,  2.51it/s]\n",
      "100%|█████████████████████████████████████████| 777/777 [00:57<00:00, 13.48it/s]\n"
     ]
    },
    {
     "name": "stdout",
     "output_type": "stream",
     "text": [
      "\n",
      "143 - 93.6081 - 2.2666361452564824e-07 - 0.0002343007102409585\n"
     ]
    },
    {
     "name": "stderr",
     "output_type": "stream",
     "text": [
      " 50%|████████████████████▌                    | 264/528 [01:46<01:46,  2.49it/s]\n",
      "100%|█████████████████████████████████████████| 777/777 [00:57<00:00, 13.43it/s]\n"
     ]
    },
    {
     "name": "stdout",
     "output_type": "stream",
     "text": [
      "\n",
      "144 - 97.8747 - 2.2588066360398725e-07 - 0.00022768048249248646\n"
     ]
    },
    {
     "name": "stderr",
     "output_type": "stream",
     "text": [
      " 50%|████████████████████▌                    | 264/528 [01:45<01:45,  2.49it/s]\n",
      "100%|█████████████████████████████████████████| 777/777 [00:59<00:00, 13.00it/s]\n"
     ]
    },
    {
     "name": "stdout",
     "output_type": "stream",
     "text": [
      "\n",
      "145 - 96.2204 - 2.2510577053598844e-07 - 0.00022112744551015494\n"
     ]
    },
    {
     "name": "stderr",
     "output_type": "stream",
     "text": [
      " 50%|████████████████████▌                    | 264/528 [01:45<01:45,  2.50it/s]\n",
      "100%|█████████████████████████████████████████| 777/777 [01:00<00:00, 12.85it/s]\n"
     ]
    },
    {
     "name": "stdout",
     "output_type": "stream",
     "text": [
      "\n",
      "146 - 93.9301 - 2.243387980489313e-07 - 0.0002146432161577842\n"
     ]
    },
    {
     "name": "stderr",
     "output_type": "stream",
     "text": [
      " 50%|████████████████████▌                    | 264/528 [01:45<01:45,  2.50it/s]\n",
      "100%|█████████████████████████████████████████| 777/777 [01:00<00:00, 12.80it/s]\n"
     ]
    },
    {
     "name": "stdout",
     "output_type": "stream",
     "text": [
      "\n",
      "147 - 98.0720 - 2.2357961212193067e-07 - 0.00020822939432194133\n"
     ]
    },
    {
     "name": "stderr",
     "output_type": "stream",
     "text": [
      " 50%|████████████████████▌                    | 264/528 [01:46<01:46,  2.47it/s]\n",
      "100%|█████████████████████████████████████████| 777/777 [00:57<00:00, 13.57it/s]\n"
     ]
    },
    {
     "name": "stdout",
     "output_type": "stream",
     "text": [
      "\n",
      "148 - 95.8984 - 2.2282808188756114e-07 - 0.00020188756251719205\n"
     ]
    },
    {
     "name": "stderr",
     "output_type": "stream",
     "text": [
      " 50%|████████████████████▌                    | 264/528 [01:46<01:46,  2.48it/s]\n",
      "100%|█████████████████████████████████████████| 777/777 [00:57<00:00, 13.44it/s]\n"
     ]
    },
    {
     "name": "stdout",
     "output_type": "stream",
     "text": [
      "\n",
      "149 - 94.1354 - 2.220840795370942e-07 - 0.00019561928549563967\n"
     ]
    },
    {
     "name": "stderr",
     "output_type": "stream",
     "text": [
      " 50%|████████████████████▌                    | 264/528 [01:45<01:45,  2.50it/s]\n",
      "100%|█████████████████████████████████████████| 777/777 [01:00<00:00, 12.92it/s]\n"
     ]
    },
    {
     "name": "stdout",
     "output_type": "stream",
     "text": [
      "\n",
      "150 - 97.9915 - 2.2134748022919298e-07 - 0.00018942610986084484\n"
     ]
    },
    {
     "name": "stderr",
     "output_type": "stream",
     "text": [
      " 50%|████████████████████▌                    | 264/528 [01:45<01:45,  2.50it/s]\n",
      "100%|█████████████████████████████████████████| 777/777 [00:59<00:00, 12.99it/s]\n"
     ]
    },
    {
     "name": "stdout",
     "output_type": "stream",
     "text": [
      "\n",
      "151 - 95.2665 - 2.2061816200191607e-07 - 0.00018330956368622496\n"
     ]
    },
    {
     "name": "stderr",
     "output_type": "stream",
     "text": [
      " 50%|████████████████████▌                    | 264/528 [01:45<01:45,  2.50it/s]\n",
      "100%|█████████████████████████████████████████| 777/777 [01:00<00:00, 12.95it/s]\n"
     ]
    },
    {
     "name": "stdout",
     "output_type": "stream",
     "text": [
      "\n",
      "152 - 92.0262 - 2.1989600568789014e-07 - 0.00017727115613802463\n"
     ]
    },
    {
     "name": "stderr",
     "output_type": "stream",
     "text": [
      " 50%|████████████████████▌                    | 264/528 [01:46<01:46,  2.48it/s]\n",
      "100%|█████████████████████████████████████████| 777/777 [01:00<00:00, 12.82it/s]\n"
     ]
    },
    {
     "name": "stdout",
     "output_type": "stream",
     "text": [
      "\n",
      "153 - 97.9995 - 2.1918089483251692e-07 - 0.00017131237710295204\n"
     ]
    },
    {
     "name": "stderr",
     "output_type": "stream",
     "text": [
      " 50%|████████████████████▌                    | 264/528 [01:45<01:45,  2.50it/s]\n",
      "100%|█████████████████████████████████████████| 777/777 [00:56<00:00, 13.78it/s]\n"
     ]
    },
    {
     "name": "stdout",
     "output_type": "stream",
     "text": [
      "\n",
      "154 - 95.2343 - 2.1847271561508706e-07 - 0.00016543469682057105\n"
     ]
    },
    {
     "name": "stderr",
     "output_type": "stream",
     "text": [
      " 50%|████████████████████▌                    | 264/528 [01:44<01:44,  2.52it/s]\n",
      "100%|█████████████████████████████████████████| 777/777 [00:56<00:00, 13.68it/s]\n"
     ]
    },
    {
     "name": "stdout",
     "output_type": "stream",
     "text": [
      "\n",
      "155 - 93.3948 - 2.177713567726799e-07 - 0.0001596395655205411\n"
     ]
    },
    {
     "name": "stderr",
     "output_type": "stream",
     "text": [
      " 50%|████████████████████▌                    | 264/528 [01:44<01:44,  2.52it/s]\n",
      "100%|█████████████████████████████████████████| 777/777 [00:56<00:00, 13.75it/s]\n"
     ]
    },
    {
     "name": "stdout",
     "output_type": "stream",
     "text": [
      "\n",
      "156 - 98.0961 - 2.170767095267336e-07 - 0.00015392841306479665\n"
     ]
    },
    {
     "name": "stderr",
     "output_type": "stream",
     "text": [
      " 50%|████████████████████▌                    | 264/528 [01:44<01:44,  2.52it/s]\n",
      "100%|█████████████████████████████████████████| 777/777 [00:56<00:00, 13.78it/s]\n"
     ]
    },
    {
     "name": "stdout",
     "output_type": "stream",
     "text": [
      "\n",
      "157 - 95.6247 - 2.1638866751217512e-07 - 0.00014830264859474812\n"
     ]
    },
    {
     "name": "stderr",
     "output_type": "stream",
     "text": [
      " 50%|████████████████████▌                    | 264/528 [01:45<01:45,  2.51it/s]\n",
      "100%|█████████████████████████████████████████| 777/777 [00:56<00:00, 13.75it/s]\n"
     ]
    },
    {
     "name": "stdout",
     "output_type": "stream",
     "text": [
      "\n",
      "158 - 94.5983 - 2.1570712670900583e-07 - 0.00014276366018359842\n"
     ]
    },
    {
     "name": "stderr",
     "output_type": "stream",
     "text": [
      " 50%|████████████████████▌                    | 264/528 [01:44<01:44,  2.52it/s]\n",
      "100%|█████████████████████████████████████████| 777/777 [00:56<00:00, 13.81it/s]\n"
     ]
    },
    {
     "name": "stdout",
     "output_type": "stream",
     "text": [
      "\n",
      "159 - 98.1645 - 2.1503198537624234e-07 - 0.0001373128144938563\n"
     ]
    },
    {
     "name": "stderr",
     "output_type": "stream",
     "text": [
      " 50%|████████████████████▌                    | 264/528 [01:44<01:44,  2.51it/s]\n",
      "100%|█████████████████████████████████████████| 777/777 [00:56<00:00, 13.76it/s]\n"
     ]
    },
    {
     "name": "stdout",
     "output_type": "stream",
     "text": [
      "\n",
      "160 - 97.3313 - 2.1436314398811787e-07 - 0.00013195145644013284\n"
     ]
    },
    {
     "name": "stderr",
     "output_type": "stream",
     "text": [
      " 50%|████████████████████▌                    | 264/528 [01:44<01:44,  2.52it/s]\n",
      "100%|█████████████████████████████████████████| 777/777 [00:56<00:00, 13.65it/s]\n"
     ]
    },
    {
     "name": "stdout",
     "output_type": "stream",
     "text": [
      "\n",
      "161 - 94.4051 - 2.137005051724527e-07 - 0.00012668090885730438\n"
     ]
    },
    {
     "name": "stderr",
     "output_type": "stream",
     "text": [
      " 50%|████████████████████▌                    | 264/528 [01:45<01:45,  2.51it/s]\n",
      "100%|█████████████████████████████████████████| 777/777 [00:56<00:00, 13.73it/s]\n"
     ]
    },
    {
     "name": "stdout",
     "output_type": "stream",
     "text": [
      "\n",
      "162 - 97.9271 - 2.130439736511074e-07 - 0.00012150247217412185\n"
     ]
    },
    {
     "name": "stderr",
     "output_type": "stream",
     "text": [
      " 50%|████████████████████▌                    | 264/528 [01:48<01:48,  2.44it/s]\n",
      "100%|█████████████████████████████████████████| 777/777 [01:00<00:00, 12.78it/s]\n"
     ]
    },
    {
     "name": "stdout",
     "output_type": "stream",
     "text": [
      "\n",
      "163 - 95.9789 - 2.1239345618243629e-07 - 0.00011641742409235029\n"
     ]
    },
    {
     "name": "stderr",
     "output_type": "stream",
     "text": [
      " 50%|████████████████████▌                    | 264/528 [01:46<01:46,  2.47it/s]\n",
      "100%|█████████████████████████████████████████| 777/777 [01:00<00:00, 12.90it/s]\n"
     ]
    },
    {
     "name": "stdout",
     "output_type": "stream",
     "text": [
      "\n",
      "164 - 94.1274 - 2.1174886150566194e-07 - 0.00011142701927151455\n"
     ]
    },
    {
     "name": "stderr",
     "output_type": "stream",
     "text": [
      " 50%|████████████████████▌                    | 264/528 [01:45<01:45,  2.51it/s]\n",
      "100%|█████████████████████████████████████████| 777/777 [00:56<00:00, 13.80it/s]\n"
     ]
    },
    {
     "name": "stdout",
     "output_type": "stream",
     "text": [
      "\n",
      "165 - 98.1122 - 2.1111010028709537e-07 - 0.00010653248901933138\n"
     ]
    },
    {
     "name": "stderr",
     "output_type": "stream",
     "text": [
      " 50%|████████████████████▌                    | 264/528 [01:44<01:44,  2.52it/s]\n",
      "100%|█████████████████████████████████████████| 777/777 [00:56<00:00, 13.80it/s]\n"
     ]
    },
    {
     "name": "stdout",
     "output_type": "stream",
     "text": [
      "\n",
      "166 - 96.1641 - 2.104770850681304e-07 - 0.00010173504098790188\n"
     ]
    },
    {
     "name": "stderr",
     "output_type": "stream",
     "text": [
      " 50%|████████████████████▌                    | 264/528 [01:44<01:44,  2.52it/s]\n",
      "100%|█████████████████████████████████████████| 777/777 [00:56<00:00, 13.79it/s]\n"
     ]
    },
    {
     "name": "stdout",
     "output_type": "stream",
     "text": [
      "\n",
      "167 - 95.2624 - 2.098497302149428e-07 - 9.703585887574218e-05\n"
     ]
    },
    {
     "name": "stderr",
     "output_type": "stream",
     "text": [
      " 50%|████████████████████▌                    | 264/528 [01:44<01:44,  2.52it/s]\n",
      "100%|█████████████████████████████████████████| 777/777 [00:56<00:00, 13.71it/s]\n"
     ]
    },
    {
     "name": "stdout",
     "output_type": "stream",
     "text": [
      "\n",
      "168 - 98.2571 - 2.0922795186982915e-07 - 9.243610213572285e-05\n"
     ]
    },
    {
     "name": "stderr",
     "output_type": "stream",
     "text": [
      " 50%|████████████████████▌                    | 264/528 [01:45<01:45,  2.51it/s]\n",
      "100%|█████████████████████████████████████████| 777/777 [00:56<00:00, 13.83it/s]\n"
     ]
    },
    {
     "name": "stdout",
     "output_type": "stream",
     "text": [
      "\n",
      "169 - 95.7173 - 2.0861166790412217e-07 - 8.793690568899215e-05\n"
     ]
    },
    {
     "name": "stderr",
     "output_type": "stream",
     "text": [
      " 50%|████████████████████▌                    | 264/528 [01:44<01:44,  2.52it/s]\n",
      "100%|█████████████████████████████████████████| 777/777 [00:56<00:00, 13.77it/s]\n"
     ]
    },
    {
     "name": "stdout",
     "output_type": "stream",
     "text": [
      "\n",
      "170 - 95.3429 - 2.0800079787262286e-07 - 8.353937964495028e-05\n"
     ]
    },
    {
     "name": "stderr",
     "output_type": "stream",
     "text": [
      " 50%|████████████████████▌                    | 264/528 [01:44<01:44,  2.51it/s]\n",
      "100%|█████████████████████████████████████████| 777/777 [00:56<00:00, 13.74it/s]\n"
     ]
    },
    {
     "name": "stdout",
     "output_type": "stream",
     "text": [
      "\n",
      "171 - 98.2410 - 2.073952629694918e-07 - 7.924460902734698e-05\n"
     ]
    },
    {
     "name": "stderr",
     "output_type": "stream",
     "text": [
      " 50%|████████████████████▌                    | 264/528 [01:45<01:45,  2.51it/s]\n",
      "100%|█████████████████████████████████████████| 777/777 [00:56<00:00, 13.80it/s]\n"
     ]
    },
    {
     "name": "stdout",
     "output_type": "stream",
     "text": [
      "\n",
      "172 - 96.2848 - 2.0679498598554466e-07 - 7.505365350656812e-05\n"
     ]
    },
    {
     "name": "stderr",
     "output_type": "stream",
     "text": [
      " 50%|████████████████████▌                    | 264/528 [01:44<01:44,  2.52it/s]\n",
      "100%|█████████████████████████████████████████| 777/777 [00:56<00:00, 13.81it/s]\n"
     ]
    },
    {
     "name": "stdout",
     "output_type": "stream",
     "text": [
      "\n",
      "173 - 96.9570 - 2.0619989126689998e-07 - 7.096754713817771e-05\n"
     ]
    },
    {
     "name": "stderr",
     "output_type": "stream",
     "text": [
      " 50%|████████████████████▌                    | 264/528 [01:44<01:44,  2.52it/s]\n",
      "100%|█████████████████████████████████████████| 777/777 [00:56<00:00, 13.78it/s]\n"
     ]
    },
    {
     "name": "stdout",
     "output_type": "stream",
     "text": [
      "\n",
      "174 - 97.9874 - 2.056099046749278e-07 - 6.698729810778065e-05\n"
     ]
    },
    {
     "name": "stderr",
     "output_type": "stream",
     "text": [
      " 50%|████████████████████▌                    | 264/528 [01:44<01:44,  2.52it/s]\n",
      "100%|█████████████████████████████████████████| 777/777 [00:56<00:00, 13.79it/s]\n"
     ]
    },
    {
     "name": "stdout",
     "output_type": "stream",
     "text": [
      "\n",
      "175 - 96.7799 - 2.0502495354745236e-07 - 6.31138884822674e-05\n"
     ]
    },
    {
     "name": "stderr",
     "output_type": "stream",
     "text": [
      " 50%|████████████████████▌                    | 264/528 [01:44<01:44,  2.52it/s]\n",
      "100%|█████████████████████████████████████████| 777/777 [00:56<00:00, 13.78it/s]\n"
     ]
    },
    {
     "name": "stdout",
     "output_type": "stream",
     "text": [
      "\n",
      "176 - 96.6109 - 2.0444496666116137e-07 - 5.934827396750392e-05\n"
     ]
    },
    {
     "name": "stderr",
     "output_type": "stream",
     "text": [
      " 50%|████████████████████▌                    | 264/528 [01:44<01:44,  2.52it/s]\n",
      "100%|█████████████████████████████████████████| 777/777 [00:56<00:00, 13.73it/s]\n"
     ]
    },
    {
     "name": "stdout",
     "output_type": "stream",
     "text": [
      "\n",
      "177 - 98.0961 - 2.0386987419517919e-07 - 5.569138367252552e-05\n"
     ]
    },
    {
     "name": "stderr",
     "output_type": "stream",
     "text": [
      " 50%|████████████████████▌                    | 264/528 [01:44<01:44,  2.52it/s]\n",
      "100%|█████████████████████████████████████████| 777/777 [00:56<00:00, 13.81it/s]\n"
     ]
    },
    {
     "name": "stdout",
     "output_type": "stream",
     "text": [
      "\n",
      "178 - 97.8023 - 2.0329960769576033e-07 - 5.214411988029355e-05\n"
     ]
    },
    {
     "name": "stderr",
     "output_type": "stream",
     "text": [
      " 50%|████████████████████▌                    | 264/528 [01:44<01:44,  2.52it/s]\n",
      "100%|█████████████████████████████████████████| 777/777 [00:56<00:00, 13.83it/s]\n"
     ]
    },
    {
     "name": "stdout",
     "output_type": "stream",
     "text": [
      "\n",
      "179 - 96.6310 - 2.027341000420633e-07 - 4.87073578250698e-05\n"
     ]
    },
    {
     "name": "stderr",
     "output_type": "stream",
     "text": [
      " 50%|████████████████████▌                    | 264/528 [01:44<01:44,  2.52it/s]\n",
      "100%|█████████████████████████████████████████| 777/777 [00:56<00:00, 13.82it/s]\n"
     ]
    },
    {
     "name": "stdout",
     "output_type": "stream",
     "text": [
      "\n",
      "180 - 97.6936 - 2.021732854129662e-07 - 4.538194547646573e-05\n"
     ]
    },
    {
     "name": "stderr",
     "output_type": "stream",
     "text": [
      " 50%|████████████████████▌                    | 264/528 [01:44<01:44,  2.52it/s]\n",
      "100%|█████████████████████████████████████████| 777/777 [00:56<00:00, 13.81it/s]\n"
     ]
    },
    {
     "name": "stdout",
     "output_type": "stream",
     "text": [
      "\n",
      "181 - 97.6976 - 2.0161709925488641e-07 - 4.216870333021949e-05\n"
     ]
    },
    {
     "name": "stderr",
     "output_type": "stream",
     "text": [
      " 50%|████████████████████▌                    | 264/528 [01:44<01:44,  2.51it/s]\n",
      "100%|█████████████████████████████████████████| 777/777 [00:56<00:00, 13.83it/s]\n"
     ]
    },
    {
     "name": "stdout",
     "output_type": "stream",
     "text": [
      "\n",
      "182 - 97.0295 - 2.0106547825056849e-07 - 3.90684242057498e-05\n"
     ]
    },
    {
     "name": "stderr",
     "output_type": "stream",
     "text": [
      " 50%|████████████████████▌                    | 264/528 [01:44<01:44,  2.52it/s]\n",
      "100%|█████████████████████████████████████████| 777/777 [00:56<00:00, 13.78it/s]\n"
     ]
    },
    {
     "name": "stdout",
     "output_type": "stream",
     "text": [
      "\n",
      "183 - 97.4078 - 2.005183602888068e-07 - 3.608187305054006e-05\n"
     ]
    },
    {
     "name": "stderr",
     "output_type": "stream",
     "text": [
      " 50%|████████████████████▌                    | 264/528 [01:44<01:44,  2.52it/s]\n",
      "100%|█████████████████████████████████████████| 777/777 [00:56<00:00, 13.77it/s]\n"
     ]
    },
    {
     "name": "stdout",
     "output_type": "stream",
     "text": [
      "\n",
      "184 - 97.4924 - 1.9997568443506916e-07 - 3.3209786751399184e-05\n"
     ]
    },
    {
     "name": "stderr",
     "output_type": "stream",
     "text": [
      " 50%|████████████████████▌                    | 264/528 [01:44<01:44,  2.52it/s]\n",
      "100%|█████████████████████████████████████████| 777/777 [00:56<00:00, 13.82it/s]\n"
     ]
    },
    {
     "name": "stdout",
     "output_type": "stream",
     "text": [
      "\n",
      "185 - 97.0737 - 1.9943739090299054e-07 - 3.0452873952645454e-05\n"
     ]
    },
    {
     "name": "stderr",
     "output_type": "stream",
     "text": [
      " 50%|████████████████████▌                    | 264/528 [01:44<01:44,  2.52it/s]\n",
      "100%|█████████████████████████████████████████| 777/777 [00:56<00:00, 13.81it/s]\n"
     ]
    },
    {
     "name": "stdout",
     "output_type": "stream",
     "text": [
      "\n",
      "186 - 97.7983 - 1.9890342102670593e-07 - 2.78118148812595e-05\n"
     ]
    },
    {
     "name": "stderr",
     "output_type": "stream",
     "text": [
      " 50%|████████████████████▌                    | 264/528 [01:44<01:44,  2.52it/s]\n",
      "100%|█████████████████████████████████████████| 777/777 [00:56<00:00, 13.79it/s]\n"
     ]
    },
    {
     "name": "stdout",
     "output_type": "stream",
     "text": [
      "\n",
      "187 - 97.2307 - 1.9837371723399437e-07 - 2.5287261179048116e-05\n"
     ]
    },
    {
     "name": "stderr",
     "output_type": "stream",
     "text": [
      " 50%|████████████████████▌                    | 264/528 [01:44<01:44,  2.52it/s]\n",
      "100%|█████████████████████████████████████████| 777/777 [00:56<00:00, 13.87it/s]\n"
     ]
    },
    {
     "name": "stdout",
     "output_type": "stream",
     "text": [
      "\n",
      "188 - 97.5125 - 1.9784822302020478e-07 - 2.287983574186159e-05\n"
     ]
    },
    {
     "name": "stderr",
     "output_type": "stream",
     "text": [
      " 50%|████████████████████▌                    | 264/528 [01:44<01:44,  2.52it/s]\n",
      "100%|█████████████████████████████████████████| 777/777 [00:56<00:00, 13.78it/s]\n"
     ]
    },
    {
     "name": "stdout",
     "output_type": "stream",
     "text": [
      "\n",
      "189 - 97.8707 - 1.9732688292293816e-07 - 2.0590132565903473e-05\n"
     ]
    },
    {
     "name": "stderr",
     "output_type": "stream",
     "text": [
      " 50%|████████████████████▌                    | 264/528 [01:45<01:45,  2.51it/s]\n",
      "100%|█████████████████████████████████████████| 777/777 [00:56<00:00, 13.74it/s]\n"
     ]
    },
    {
     "name": "stdout",
     "output_type": "stream",
     "text": [
      "\n",
      "190 - 97.4883 - 1.9680964249745946e-07 - 1.841871660117095e-05\n"
     ]
    },
    {
     "name": "stderr",
     "output_type": "stream",
     "text": [
      " 50%|████████████████████▌                    | 264/528 [01:45<01:45,  2.51it/s]\n",
      "100%|█████████████████████████████████████████| 777/777 [00:56<00:00, 13.70it/s]\n"
     ]
    },
    {
     "name": "stdout",
     "output_type": "stream",
     "text": [
      "\n",
      "191 - 97.1341 - 1.9629644829281488e-07 - 1.6366123612061636e-05\n"
     ]
    },
    {
     "name": "stderr",
     "output_type": "stream",
     "text": [
      " 50%|████████████████████▌                    | 264/528 [01:44<01:44,  2.52it/s]\n",
      "100%|█████████████████████████████████████████| 777/777 [00:56<00:00, 13.74it/s]\n"
     ]
    },
    {
     "name": "stdout",
     "output_type": "stream",
     "text": [
      "\n",
      "192 - 97.9512 - 1.9578724782863063e-07 - 1.4432860045182017e-05\n"
     ]
    },
    {
     "name": "stderr",
     "output_type": "stream",
     "text": [
      " 50%|████████████████████▌                    | 264/528 [01:45<01:45,  2.51it/s]\n",
      "100%|█████████████████████████████████████████| 777/777 [00:56<00:00, 13.83it/s]\n"
     ]
    },
    {
     "name": "stdout",
     "output_type": "stream",
     "text": [
      "\n",
      "193 - 97.7017 - 1.9528198957257024e-07 - 1.2619402904389121e-05\n"
     ]
    },
    {
     "name": "stderr",
     "output_type": "stream",
     "text": [
      " 50%|████████████████████▌                    | 264/528 [01:44<01:44,  2.52it/s]\n",
      "100%|█████████████████████████████████████████| 777/777 [00:56<00:00, 13.76it/s]\n"
     ]
    },
    {
     "name": "stdout",
     "output_type": "stream",
     "text": [
      "\n",
      "194 - 97.3434 - 1.9478062291842857e-07 - 1.0926199633097156e-05\n"
     ]
    },
    {
     "name": "stderr",
     "output_type": "stream",
     "text": [
      " 50%|████████████████████▌                    | 264/528 [01:44<01:44,  2.52it/s]\n",
      "100%|█████████████████████████████████████████| 777/777 [00:56<00:00, 13.82it/s]\n"
     ]
    },
    {
     "name": "stdout",
     "output_type": "stream",
     "text": [
      "\n",
      "195 - 97.5286 - 1.9428309816484135e-07 - 9.353668003877436e-06\n"
     ]
    },
    {
     "name": "stderr",
     "output_type": "stream",
     "text": [
      " 50%|████████████████████▌                    | 264/528 [01:44<01:44,  2.51it/s]\n",
      "100%|█████████████████████████████████████████| 777/777 [00:56<00:00, 13.81it/s]\n"
     ]
    },
    {
     "name": "stdout",
     "output_type": "stream",
     "text": [
      "\n",
      "196 - 97.6695 - 1.937893664945897e-07 - 7.90219601537906e-06\n"
     ]
    },
    {
     "name": "stderr",
     "output_type": "stream",
     "text": [
      " 50%|████████████████████▌                    | 264/528 [01:44<01:44,  2.52it/s]\n",
      "100%|█████████████████████████████████████████| 777/777 [00:56<00:00, 13.74it/s]\n"
     ]
    },
    {
     "name": "stdout",
     "output_type": "stream",
     "text": [
      "\n",
      "197 - 97.8667 - 1.9329937995448063e-07 - 6.572141796596376e-06\n"
     ]
    },
    {
     "name": "stderr",
     "output_type": "stream",
     "text": [
      " 50%|████████████████████▌                    | 264/528 [01:44<01:44,  2.52it/s]\n",
      "100%|█████████████████████████████████████████| 777/777 [00:56<00:00, 13.78it/s]\n"
     ]
    },
    {
     "name": "stdout",
     "output_type": "stream",
     "text": [
      "\n",
      "198 - 97.9794 - 1.928130914357838e-07 - 5.363833518505834e-06\n"
     ]
    },
    {
     "name": "stderr",
     "output_type": "stream",
     "text": [
      " 50%|████████████████████▌                    | 264/528 [01:44<01:44,  2.52it/s]\n",
      "100%|█████████████████████████████████████████| 777/777 [00:56<00:00, 13.73it/s]"
     ]
    },
    {
     "name": "stdout",
     "output_type": "stream",
     "text": [
      "\n",
      "199 - 97.7258 - 1.9233045465520742e-07 - 4.277569313094809e-06\n"
     ]
    },
    {
     "name": "stderr",
     "output_type": "stream",
     "text": [
      "\n"
     ]
    }
   ],
   "source": [
    "## start experiment\n",
    "kfold = KFold(n_splits = config['data']['k_fold'], shuffle=True)\n",
    "train_fold_list = list(kfold.split(list(range(config['data']['num_method']))))\n",
    "\n",
    "np.random.seed(1234)\n",
    "torch.backends.cudnn.deterministic = True\n",
    "torch.backends.cudnn.benchmark = False\n",
    "\n",
    "\n",
    "# GPU device\n",
    "device = 'cuda' if torch.cuda.is_available() else 'cpu'\n",
    "\n",
    "# Parameter\n",
    "config = yaml.safe_load(open('try_optim.yaml'))\n",
    "batch_size = config['batch_size']\n",
    "lr = config['lr']\n",
    "warmup = config['warmup']        \n",
    "num_epochs = config['epoch']\n",
    "d_model = config['model']['patch_embed']\n",
    "num_filter = config['model']['num_filter']\n",
    "num_block = config['model']['num_block']\n",
    "num_head = config['model']['num_head']\n",
    "\n",
    "# Model Initialization\n",
    "model_A = Net(config['model'],device).to(device)\n",
    "select_param = [k for k, v in model_A.named_parameters() if k.startswith(\"FeatureEncoder\")]\n",
    "for name, param in model_A.named_parameters(): \n",
    "    if name in select_param:\n",
    "        param.requires_grad = False\n",
    "        \n",
    "optim_A = torch.optim.Adam(filter(lambda param: param.requires_grad, model_A.parameters()), \n",
    "                           lr = lr, betas=(0.9, 0.98), eps=1e-9)\n",
    "lr_scheduler_A = LambdaLR(optimizer=optim_A,\n",
    "                        lr_lambda=lambda step: rate(step, d_model, factor=1, warmup=config[\"warmup\"]),)\n",
    "select_buffer_vec = [k for k, v in model_A.state_dict().items() if k.startswith(\"FeatureEncoder\")]\n",
    "\n",
    "\n",
    "\n",
    "model_B = Net(config['model'],device).to(device)\n",
    "select_param = [k for k, v in model_B.named_parameters() if k.startswith(\"FeatureEncoder\")]\n",
    "for name, param in model_B.named_parameters(): \n",
    "    if name not in select_param:\n",
    "        param.requires_grad = False\n",
    "\n",
    "optim_B = torch.optim.Adam(filter(lambda param: param.requires_grad, model_B.parameters()),\n",
    "                             lr = lr, betas=(0.9, 0.98), eps=1e-9)\n",
    "lr_scheduler_B = LambdaLR(optimizer=optim_B,\n",
    "                        lr_lambda=lambda step: rate_cnn(step, num_training_steps=55000, num_cycles=0.5),)\n",
    "\n",
    "\n",
    "\n",
    "# model log\n",
    "model_tag = '{}_{}_{}_{}_{}_{}'.format(batch_size,d_model, num_filter, num_block, num_head,lr)\n",
    "model_save_path = os.path.join('/home/menglu/123/Deepfake/ASV_v1', model_tag)\n",
    "\n",
    "if os.path.exists(model_save_path)==False:\n",
    "    os.makedirs(model_save_path)\n",
    "print(model_tag)\n",
    "writer = SummaryWriter('logs/{}'.format(model_tag))\n",
    "\n",
    "# init\n",
    "best_valid_acc = 40\n",
    "index = 0\n",
    "\n",
    "for epoch in range(num_epochs):\n",
    "    train_fold_idx = epoch % config['data']['k_fold']\n",
    "    \n",
    "    for i in range(1,len(train_fold_list[train_fold_idx][0])):  # get index from train_A set\n",
    "        if i == 1:\n",
    "            idx = train_fold_list[train_fold_idx][0][i]\n",
    "            train_A_indices = torch.concat((train_idx[0],train_idx[1]))\n",
    "        else:\n",
    "            idx = train_fold_list[train_fold_idx][0][i]\n",
    "            train_A_indices = torch.concat((train_A_indices,train_idx[idx]))\n",
    "            \n",
    "    train_B_set_idx1 = train_fold_list[train_fold_idx][1][0]\n",
    "    train_B_set_idx2 = train_fold_list[train_fold_idx][1][1]\n",
    "    train_B_indices = torch.concat((train_idx[train_B_set_idx1],train_idx[train_B_set_idx2]))\n",
    "    \n",
    "    train_A_set = Subset(train_set, train_A_indices)\n",
    "    train_B_set = Subset(train_set, train_B_indices)\n",
    "    \n",
    "    # get two sets of training data\n",
    "    train_A_loader = DataLoader(train_A_set, batch_size=batch_size, shuffle=True, drop_last=True)\n",
    "    train_B_loader = DataLoader(train_B_set, batch_size=batch_size, shuffle=True, drop_last=True)\n",
    "    \n",
    "    index = train_epoch_with_swap(train_A_loader, train_B_loader, index,model_A, model_B, lr, \n",
    "                                             optim_A, optim_B, device, select_buffer_vec,\n",
    "                                             scheduler_A = lr_scheduler_A, scheduler_B = lr_scheduler_B)\n",
    "    \n",
    "    if epoch <= num_epochs-1:\n",
    "        model_A_dict = model_A.state_dict()\n",
    "        model_B_dict = model_B.state_dict()\n",
    "        buffer_dict = {k: v for k, v in model_B_dict.items() if k in select_buffer_vec}\n",
    "        model_A_dict.update(buffer_dict)\n",
    "        model_A.load_state_dict(model_A_dict)\n",
    "        \n",
    "    valid_acc = evaluate_accuracy(dev_loader, model_A, device)\n",
    "    writer.add_scalar('valid_accuracy', valid_acc, epoch)\n",
    "    print('\\n{} - {:.4f} - {} - {}'.format(epoch,valid_acc, optim_A.param_groups[0]['lr'], optim_B.param_groups[0]['lr']))\n",
    "    if valid_acc > best_valid_acc:\n",
    "        best_valid_acc = valid_acc\n",
    "        torch.save(model_A.state_dict(), os.path.join(model_save_path, 'epoch_{}.pth'.format(epoch)))\n",
    "\n",
    "writer.close()    "
   ]
  },
  {
   "cell_type": "code",
   "execution_count": null,
   "id": "89764e29",
   "metadata": {},
   "outputs": [],
   "source": []
  },
  {
   "cell_type": "code",
   "execution_count": null,
   "id": "5ab4b5fe",
   "metadata": {},
   "outputs": [],
   "source": []
  }
 ],
 "metadata": {
  "kernelspec": {
   "display_name": "Python 3 (ipykernel)",
   "language": "python",
   "name": "python3"
  },
  "language_info": {
   "codemirror_mode": {
    "name": "ipython",
    "version": 3
   },
   "file_extension": ".py",
   "mimetype": "text/x-python",
   "name": "python",
   "nbconvert_exporter": "python",
   "pygments_lexer": "ipython3",
   "version": "3.10.6"
  }
 },
 "nbformat": 4,
 "nbformat_minor": 5
}
